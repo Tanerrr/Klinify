{
 "cells": [
  {
   "cell_type": "code",
   "execution_count": 30,
   "metadata": {},
   "outputs": [],
   "source": [
    "import pandas as pd\n",
    "import glob\n",
    "import re\n",
    "import string\n",
    "\n",
    "import warnings\n",
    "warnings.filterwarnings(\"ignore\")"
   ]
  },
  {
   "cell_type": "code",
   "execution_count": 2,
   "metadata": {},
   "outputs": [],
   "source": [
    "filelist = glob.glob(\"csvs/*.csv\")"
   ]
  },
  {
   "cell_type": "code",
   "execution_count": 3,
   "metadata": {},
   "outputs": [
    {
     "name": "stdout",
     "output_type": "stream",
     "text": [
      "------------------------------------------------------------------------------------------\n",
      "Name                                     Kommentare Bekommen     Kommentare Zahl\n",
      "------------------------------------------------------------------------------------------\n",
      "csvs/KRH Klinikum Lehrte.csv                    87                       87\n",
      "csvs/Sophienklinik GmbH.csv                    116                      116\n",
      "csvs/Krankenhaus Lindenbrunn.csv                44                       44\n",
      "csvs/Asklepios Hospital Göttingen.csv           56                       57\n",
      "csvs/Augenklinik Dr. Hoffmann.csv              108                      108\n",
      "csvs/Helios Klinikum Hildesheim.csv            305                      307\n",
      "csvs/Asklepios Hospital Tiefenbrunn.csv         25                       25\n",
      "csvs/Krankenhaus Marienstift gGmbH.csv          86                       86\n",
      "csvs/DIAKOVERE Friederikenstift.csv            264                      264\n",
      "csvs/DIAKOVERE Annastift.csv                    98                       98\n",
      "csvs/AMEOS Hospital Alfeld.csv                  70                       70\n",
      "csvs/Sana Klinikum Hameln-Pyrmont.csv          275                      277\n",
      "csvs/DRK-Krankenhaus Clementinenhaus.csv       178                      178\n",
      "csvs/Herzogin Elisabeth Hospital.csv           140                      140\n"
     ]
    }
   ],
   "source": [
    "dash = '-' * 90\n",
    "\n",
    "for i in range(len(filelist)):\n",
    "    if i == 0:\n",
    "      print(dash)\n",
    "      print('{:<40s}{:>20s}{:>20s}'.format('Name','Kommentare Bekommen','Kommentare Zahl'))\n",
    "      print(dash)\n",
    "    else:\n",
    "      df = pd.read_csv(filelist[i-1])\n",
    "      print('{:<40s}{:>10d}{:>25d}'.format(filelist[i-1], len(df['Kommentare']), df['Zahl der Kommentaren'][0]))"
   ]
  },
  {
   "cell_type": "markdown",
   "metadata": {},
   "source": [
    "#### Google Maps CSV's kombinieren"
   ]
  },
  {
   "cell_type": "code",
   "execution_count": 4,
   "metadata": {},
   "outputs": [],
   "source": [
    "def kombineCSVs(filenames):\n",
    "    df = pd.concat([pd.read_csv(file, encoding='utf-8') for file in filenames])\n",
    "    return df"
   ]
  },
  {
   "cell_type": "code",
   "execution_count": 5,
   "metadata": {},
   "outputs": [],
   "source": [
    "maps_df = kombineCSVs([name for name in filelist])"
   ]
  },
  {
   "cell_type": "code",
   "execution_count": 6,
   "metadata": {
    "scrolled": false
   },
   "outputs": [
    {
     "data": {
      "text/html": [
       "<div>\n",
       "<style scoped>\n",
       "    .dataframe tbody tr th:only-of-type {\n",
       "        vertical-align: middle;\n",
       "    }\n",
       "\n",
       "    .dataframe tbody tr th {\n",
       "        vertical-align: top;\n",
       "    }\n",
       "\n",
       "    .dataframe thead th {\n",
       "        text-align: right;\n",
       "    }\n",
       "</style>\n",
       "<table border=\"1\" class=\"dataframe\">\n",
       "  <thead>\n",
       "    <tr style=\"text-align: right;\">\n",
       "      <th></th>\n",
       "      <th>Name</th>\n",
       "      <th>AVG - Sterne</th>\n",
       "      <th>Zahl der Kommentaren</th>\n",
       "      <th>Adresse</th>\n",
       "      <th>Sterne</th>\n",
       "      <th>Kommentare</th>\n",
       "      <th>Datum</th>\n",
       "      <th>Likes</th>\n",
       "    </tr>\n",
       "  </thead>\n",
       "  <tbody>\n",
       "    <tr>\n",
       "      <th>0</th>\n",
       "      <td>KRH Klinikum Lehrte</td>\n",
       "      <td>3.3</td>\n",
       "      <td>87</td>\n",
       "      <td>Manskestraße 22, 31275 Lehrte</td>\n",
       "      <td>4</td>\n",
       "      <td>(Translated by Google) My father was admitted ...</td>\n",
       "      <td>a month ago</td>\n",
       "      <td>0</td>\n",
       "    </tr>\n",
       "    <tr>\n",
       "      <th>1</th>\n",
       "      <td>KRH Klinikum Lehrte</td>\n",
       "      <td>3.3</td>\n",
       "      <td>87</td>\n",
       "      <td>Manskestraße 22, 31275 Lehrte</td>\n",
       "      <td>5</td>\n",
       "      <td>(Translated by Google) Station 4 is great. I c...</td>\n",
       "      <td>a year ago</td>\n",
       "      <td>2</td>\n",
       "    </tr>\n",
       "    <tr>\n",
       "      <th>2</th>\n",
       "      <td>KRH Klinikum Lehrte</td>\n",
       "      <td>3.3</td>\n",
       "      <td>87</td>\n",
       "      <td>Manskestraße 22, 31275 Lehrte</td>\n",
       "      <td>5</td>\n",
       "      <td>(Translated by Google) Everyone was super nice...</td>\n",
       "      <td>a month ago</td>\n",
       "      <td>0</td>\n",
       "    </tr>\n",
       "  </tbody>\n",
       "</table>\n",
       "</div>"
      ],
      "text/plain": [
       "                  Name  AVG - Sterne  Zahl der Kommentaren  \\\n",
       "0  KRH Klinikum Lehrte           3.3                    87   \n",
       "1  KRH Klinikum Lehrte           3.3                    87   \n",
       "2  KRH Klinikum Lehrte           3.3                    87   \n",
       "\n",
       "                         Adresse  Sterne  \\\n",
       "0  Manskestraße 22, 31275 Lehrte       4   \n",
       "1  Manskestraße 22, 31275 Lehrte       5   \n",
       "2  Manskestraße 22, 31275 Lehrte       5   \n",
       "\n",
       "                                          Kommentare        Datum  Likes  \n",
       "0  (Translated by Google) My father was admitted ...  a month ago      0  \n",
       "1  (Translated by Google) Station 4 is great. I c...   a year ago      2  \n",
       "2  (Translated by Google) Everyone was super nice...  a month ago      0  "
      ]
     },
     "execution_count": 6,
     "metadata": {},
     "output_type": "execute_result"
    }
   ],
   "source": [
    "maps_df.head(3)"
   ]
  },
  {
   "cell_type": "code",
   "execution_count": 7,
   "metadata": {},
   "outputs": [
    {
     "name": "stdout",
     "output_type": "stream",
     "text": [
      "<class 'pandas.core.frame.DataFrame'>\n",
      "Int64Index: 1965 entries, 0 to 112\n",
      "Data columns (total 8 columns):\n",
      " #   Column                Non-Null Count  Dtype  \n",
      "---  ------                --------------  -----  \n",
      " 0   Name                  1965 non-null   object \n",
      " 1   AVG - Sterne          1965 non-null   float64\n",
      " 2   Zahl der Kommentaren  1965 non-null   int64  \n",
      " 3   Adresse               1965 non-null   object \n",
      " 4   Sterne                1965 non-null   int64  \n",
      " 5   Kommentare            1445 non-null   object \n",
      " 6   Datum                 1965 non-null   object \n",
      " 7   Likes                 1965 non-null   int64  \n",
      "dtypes: float64(1), int64(3), object(4)\n",
      "memory usage: 138.2+ KB\n"
     ]
    }
   ],
   "source": [
    "maps_df.info()"
   ]
  },
  {
   "cell_type": "code",
   "execution_count": 8,
   "metadata": {},
   "outputs": [],
   "source": [
    "maps_df.reset_index(drop=True, inplace=True)"
   ]
  },
  {
   "cell_type": "code",
   "execution_count": 9,
   "metadata": {
    "scrolled": true
   },
   "outputs": [
    {
     "data": {
      "text/plain": [
       "\"(Translated by Google) My father was admitted to the intensive care unit in this hospital. The staff did everything to save him. Thanks alot! You are angels on earth.\\nOne star, because the communication wasn't so good and some of the sisters were really unfriendly.\\n\\n(Original)\\nMein Vater ist in diesem KH in die Intensivstation eingeliefert worden. Das Personal hat alles getan um.ihn zu retten. Vielen vielen Dank! Ihr seid Engel auf Erden.\\nEinen Stern Abzug, weil die Kommunikation nicht so gut war und manche Schwestern echt unfreundlich waren.\""
      ]
     },
     "execution_count": 9,
     "metadata": {},
     "output_type": "execute_result"
    }
   ],
   "source": [
    "strin = maps_df['Kommentare'][0]\n",
    "strin"
   ]
  },
  {
   "cell_type": "markdown",
   "metadata": {},
   "source": [
    "#### Bearbeiten von Kommentaren, um gute Ergebnisse aus der Sentimentalyse zu erhalten"
   ]
  },
  {
   "cell_type": "markdown",
   "metadata": {},
   "source": [
    "##### Unterscheidung zwischen englischen und deutschen Kommentaren"
   ]
  },
  {
   "cell_type": "code",
   "execution_count": 10,
   "metadata": {},
   "outputs": [],
   "source": [
    "def split_it(df, column):\n",
    "    english = []\n",
    "    deutsch = []\n",
    "    komment_list = []\n",
    "    df['Regex'] =  [re.split(r\"\\(Translated by Google\\)\", str(x)) for x in df[column]]\n",
    "    for kommentar in df['Regex']:\n",
    "        try:\n",
    "            komment = kommentar[1]\n",
    "            komment_list.append(komment)\n",
    "        except:\n",
    "            komment = 'No Comment'\n",
    "            komment_list.append(komment)\n",
    "\n",
    "    df['Regex'] =  komment_list\n",
    "    \n",
    "    df['Regex'] =  [re.split(r\"\\(Original\\)\", str(x)) for x in df['Regex']]\n",
    "    \n",
    "    for sprache in df['Regex']:\n",
    "        try:\n",
    "            eng = sprache[0]\n",
    "            de = sprache[1]\n",
    "            english.append(eng)\n",
    "            deutsch.append(de)\n",
    "        except:\n",
    "            komment = 'No Comment'\n",
    "            english.append(komment)\n",
    "            deutsch.append(komment)\n",
    "    df.drop('Regex', axis=1, inplace= True)\n",
    "    df['Englisch'] =  english\n",
    "    df['Deutsch'] =  deutsch \n",
    "    \n",
    "    return df['Englisch'], df['Deutsch']"
   ]
  },
  {
   "cell_type": "code",
   "execution_count": 11,
   "metadata": {},
   "outputs": [],
   "source": [
    "maps_df['Englisch'], maps_df['Deutsch'] = split_it(maps_df, 'Kommentare')"
   ]
  },
  {
   "cell_type": "code",
   "execution_count": 12,
   "metadata": {},
   "outputs": [
    {
     "name": "stdout",
     "output_type": "stream",
     "text": [
      "<class 'pandas.core.frame.DataFrame'>\n",
      "RangeIndex: 1965 entries, 0 to 1964\n",
      "Data columns (total 10 columns):\n",
      " #   Column                Non-Null Count  Dtype  \n",
      "---  ------                --------------  -----  \n",
      " 0   Name                  1965 non-null   object \n",
      " 1   AVG - Sterne          1965 non-null   float64\n",
      " 2   Zahl der Kommentaren  1965 non-null   int64  \n",
      " 3   Adresse               1965 non-null   object \n",
      " 4   Sterne                1965 non-null   int64  \n",
      " 5   Kommentare            1445 non-null   object \n",
      " 6   Datum                 1965 non-null   object \n",
      " 7   Likes                 1965 non-null   int64  \n",
      " 8   Englisch              1965 non-null   object \n",
      " 9   Deutsch               1965 non-null   object \n",
      "dtypes: float64(1), int64(3), object(6)\n",
      "memory usage: 153.6+ KB\n"
     ]
    }
   ],
   "source": [
    "maps_df.info()"
   ]
  },
  {
   "cell_type": "code",
   "execution_count": 13,
   "metadata": {},
   "outputs": [],
   "source": [
    "google_maps = maps_df.drop('Kommentare', axis=1)"
   ]
  },
  {
   "cell_type": "code",
   "execution_count": 14,
   "metadata": {
    "scrolled": true
   },
   "outputs": [
    {
     "data": {
      "text/html": [
       "<div>\n",
       "<style scoped>\n",
       "    .dataframe tbody tr th:only-of-type {\n",
       "        vertical-align: middle;\n",
       "    }\n",
       "\n",
       "    .dataframe tbody tr th {\n",
       "        vertical-align: top;\n",
       "    }\n",
       "\n",
       "    .dataframe thead th {\n",
       "        text-align: right;\n",
       "    }\n",
       "</style>\n",
       "<table border=\"1\" class=\"dataframe\">\n",
       "  <thead>\n",
       "    <tr style=\"text-align: right;\">\n",
       "      <th></th>\n",
       "      <th>Name</th>\n",
       "      <th>AVG - Sterne</th>\n",
       "      <th>Zahl der Kommentaren</th>\n",
       "      <th>Adresse</th>\n",
       "      <th>Sterne</th>\n",
       "      <th>Datum</th>\n",
       "      <th>Likes</th>\n",
       "      <th>Englisch</th>\n",
       "      <th>Deutsch</th>\n",
       "    </tr>\n",
       "  </thead>\n",
       "  <tbody>\n",
       "    <tr>\n",
       "      <th>0</th>\n",
       "      <td>KRH Klinikum Lehrte</td>\n",
       "      <td>3.3</td>\n",
       "      <td>87</td>\n",
       "      <td>Manskestraße 22, 31275 Lehrte</td>\n",
       "      <td>4</td>\n",
       "      <td>a month ago</td>\n",
       "      <td>0</td>\n",
       "      <td>My father was admitted to the intensive care ...</td>\n",
       "      <td>\\nMein Vater ist in diesem KH in die Intensivs...</td>\n",
       "    </tr>\n",
       "    <tr>\n",
       "      <th>1</th>\n",
       "      <td>KRH Klinikum Lehrte</td>\n",
       "      <td>3.3</td>\n",
       "      <td>87</td>\n",
       "      <td>Manskestraße 22, 31275 Lehrte</td>\n",
       "      <td>5</td>\n",
       "      <td>a year ago</td>\n",
       "      <td>2</td>\n",
       "      <td>Station 4 is great. I came to the emergency r...</td>\n",
       "      <td>\\nStation 4 ist super. Ich bin heute Nacht in ...</td>\n",
       "    </tr>\n",
       "  </tbody>\n",
       "</table>\n",
       "</div>"
      ],
      "text/plain": [
       "                  Name  AVG - Sterne  Zahl der Kommentaren  \\\n",
       "0  KRH Klinikum Lehrte           3.3                    87   \n",
       "1  KRH Klinikum Lehrte           3.3                    87   \n",
       "\n",
       "                         Adresse  Sterne        Datum  Likes  \\\n",
       "0  Manskestraße 22, 31275 Lehrte       4  a month ago      0   \n",
       "1  Manskestraße 22, 31275 Lehrte       5   a year ago      2   \n",
       "\n",
       "                                            Englisch  \\\n",
       "0   My father was admitted to the intensive care ...   \n",
       "1   Station 4 is great. I came to the emergency r...   \n",
       "\n",
       "                                             Deutsch  \n",
       "0  \\nMein Vater ist in diesem KH in die Intensivs...  \n",
       "1  \\nStation 4 ist super. Ich bin heute Nacht in ...  "
      ]
     },
     "execution_count": 14,
     "metadata": {},
     "output_type": "execute_result"
    }
   ],
   "source": [
    "google_maps.head(2)"
   ]
  },
  {
   "cell_type": "markdown",
   "metadata": {},
   "source": [
    "##### Entfernen unerwünschter Zeichen aus Kommentaren"
   ]
  },
  {
   "cell_type": "code",
   "execution_count": 15,
   "metadata": {},
   "outputs": [],
   "source": [
    "google_maps['Englisch'].replace(r'\\s+|\\\\n', ' ', regex=True, inplace=True) \n",
    "google_maps['Deutsch'].replace(r'\\s+|\\\\n', ' ', regex=True, inplace=True) "
   ]
  },
  {
   "cell_type": "code",
   "execution_count": 16,
   "metadata": {},
   "outputs": [
    {
     "data": {
      "text/plain": [
       "' Mein Vater ist in diesem KH in die Intensivstation eingeliefert worden. Das Personal hat alles getan um.ihn zu retten. Vielen vielen Dank! Ihr seid Engel auf Erden. Einen Stern Abzug, weil die Kommunikation nicht so gut war und manche Schwestern echt unfreundlich waren.'"
      ]
     },
     "execution_count": 16,
     "metadata": {},
     "output_type": "execute_result"
    }
   ],
   "source": [
    "google_maps['Deutsch'][0]"
   ]
  },
  {
   "cell_type": "code",
   "execution_count": 17,
   "metadata": {},
   "outputs": [
    {
     "data": {
      "text/plain": [
       "Senator-Braun-Allee 33, 31135 Hildesheim              305\n",
       "Saint-Maur-Platz 1, 31785 Hameln                      275\n",
       "Humboldtstraße 5, 30169 Hannover                      264\n",
       "Lützerodestraße 1, 30161 Hannover                     178\n",
       "Leipziger Str. 24, 38124 Braunschweig                 140\n",
       "Bischofsholer Damm 160, 30173 Hannover                116\n",
       "Fuhrberger Str. 8, 30938 Burgwedel                    113\n",
       "Wolfenbütteler Str. 82, 38102 Braunschweig            108\n",
       "Anna-von-Borries-Straße 1-7, 30625 Hannover            98\n",
       "Manskestraße 22, 31275 Lehrte                          87\n",
       "Helmstedter Str. 35, 38102 Braunschweig                86\n",
       "Landrat-Beushausen-Straße 26, 31061 Alfeld (Leine)     70\n",
       "Rosdorfer Weg 70, 37081 Göttingen                      56\n",
       "Am Lindenbrunn 1, 31863 Coppenbrügge                   44\n",
       "Tiefenbrunn, 37124 Rosdorf                             25\n",
       "Name: Adresse, dtype: int64"
      ]
     },
     "execution_count": 17,
     "metadata": {},
     "output_type": "execute_result"
    }
   ],
   "source": [
    "google_maps['Adresse'].value_counts()"
   ]
  },
  {
   "cell_type": "markdown",
   "metadata": {},
   "source": [
    "## Sentimenanalyse"
   ]
  },
  {
   "cell_type": "code",
   "execution_count": 18,
   "metadata": {},
   "outputs": [],
   "source": [
    "import textblob # Sentiment Analyse\n",
    "from textblob_de import TextBlobDE\n",
    "from textblob import TextBlob"
   ]
  },
  {
   "cell_type": "code",
   "execution_count": 19,
   "metadata": {},
   "outputs": [],
   "source": [
    "'''Bei diesen Funktionen mit TextBlob werden wir 'Polaritywerten' von allen Kommentaren  erhalten.  '''\n",
    "\n",
    "def senti_deutsch(x):\n",
    "    return TextBlobDE(x).sentiment.polarity # TextBlobDE ist für deutsche Texte geignet."
   ]
  },
  {
   "cell_type": "code",
   "execution_count": null,
   "metadata": {},
   "outputs": [],
   "source": [
    "google_maps.info()"
   ]
  },
  {
   "cell_type": "code",
   "execution_count": 20,
   "metadata": {},
   "outputs": [],
   "source": [
    "google_maps['Senti_Score'] = google_maps['Deutsch'].apply(senti_deutsch)"
   ]
  },
  {
   "cell_type": "code",
   "execution_count": 21,
   "metadata": {},
   "outputs": [
    {
     "data": {
      "text/html": [
       "<div>\n",
       "<style scoped>\n",
       "    .dataframe tbody tr th:only-of-type {\n",
       "        vertical-align: middle;\n",
       "    }\n",
       "\n",
       "    .dataframe tbody tr th {\n",
       "        vertical-align: top;\n",
       "    }\n",
       "\n",
       "    .dataframe thead th {\n",
       "        text-align: right;\n",
       "    }\n",
       "</style>\n",
       "<table border=\"1\" class=\"dataframe\">\n",
       "  <thead>\n",
       "    <tr style=\"text-align: right;\">\n",
       "      <th></th>\n",
       "      <th>Name</th>\n",
       "      <th>AVG - Sterne</th>\n",
       "      <th>Zahl der Kommentaren</th>\n",
       "      <th>Adresse</th>\n",
       "      <th>Sterne</th>\n",
       "      <th>Datum</th>\n",
       "      <th>Likes</th>\n",
       "      <th>Englisch</th>\n",
       "      <th>Deutsch</th>\n",
       "      <th>Senti_Score</th>\n",
       "    </tr>\n",
       "  </thead>\n",
       "  <tbody>\n",
       "    <tr>\n",
       "      <th>0</th>\n",
       "      <td>KRH Klinikum Lehrte</td>\n",
       "      <td>3.3</td>\n",
       "      <td>87</td>\n",
       "      <td>Manskestraße 22, 31275 Lehrte</td>\n",
       "      <td>4</td>\n",
       "      <td>a month ago</td>\n",
       "      <td>0</td>\n",
       "      <td>My father was admitted to the intensive care ...</td>\n",
       "      <td>Mein Vater ist in diesem KH in die Intensivst...</td>\n",
       "      <td>0.000000</td>\n",
       "    </tr>\n",
       "    <tr>\n",
       "      <th>1</th>\n",
       "      <td>KRH Klinikum Lehrte</td>\n",
       "      <td>3.3</td>\n",
       "      <td>87</td>\n",
       "      <td>Manskestraße 22, 31275 Lehrte</td>\n",
       "      <td>5</td>\n",
       "      <td>a year ago</td>\n",
       "      <td>2</td>\n",
       "      <td>Station 4 is great. I came to the emergency r...</td>\n",
       "      <td>Station 4 ist super. Ich bin heute Nacht in d...</td>\n",
       "      <td>0.462500</td>\n",
       "    </tr>\n",
       "    <tr>\n",
       "      <th>2</th>\n",
       "      <td>KRH Klinikum Lehrte</td>\n",
       "      <td>3.3</td>\n",
       "      <td>87</td>\n",
       "      <td>Manskestraße 22, 31275 Lehrte</td>\n",
       "      <td>5</td>\n",
       "      <td>a month ago</td>\n",
       "      <td>0</td>\n",
       "      <td>Everyone was super nice and helpful. Despite ...</td>\n",
       "      <td>Alle super nett und hilfsbereit. Trotz sponta...</td>\n",
       "      <td>0.100000</td>\n",
       "    </tr>\n",
       "    <tr>\n",
       "      <th>3</th>\n",
       "      <td>KRH Klinikum Lehrte</td>\n",
       "      <td>3.3</td>\n",
       "      <td>87</td>\n",
       "      <td>Manskestraße 22, 31275 Lehrte</td>\n",
       "      <td>5</td>\n",
       "      <td>2 months ago</td>\n",
       "      <td>2</td>\n",
       "      <td>When I read all of this I don't come here for...</td>\n",
       "      <td>Wenn ich das alles hier lese. Ich komme hier ...</td>\n",
       "      <td>0.000000</td>\n",
       "    </tr>\n",
       "    <tr>\n",
       "      <th>4</th>\n",
       "      <td>KRH Klinikum Lehrte</td>\n",
       "      <td>3.3</td>\n",
       "      <td>87</td>\n",
       "      <td>Manskestraße 22, 31275 Lehrte</td>\n",
       "      <td>5</td>\n",
       "      <td>a month ago</td>\n",
       "      <td>0</td>\n",
       "      <td>My husband was operated on by Dr Remerey in O...</td>\n",
       "      <td>Mein Mann wurde im Oktober 2016 von Dr.Fremer...</td>\n",
       "      <td>0.307143</td>\n",
       "    </tr>\n",
       "  </tbody>\n",
       "</table>\n",
       "</div>"
      ],
      "text/plain": [
       "                  Name  AVG - Sterne  Zahl der Kommentaren  \\\n",
       "0  KRH Klinikum Lehrte           3.3                    87   \n",
       "1  KRH Klinikum Lehrte           3.3                    87   \n",
       "2  KRH Klinikum Lehrte           3.3                    87   \n",
       "3  KRH Klinikum Lehrte           3.3                    87   \n",
       "4  KRH Klinikum Lehrte           3.3                    87   \n",
       "\n",
       "                         Adresse  Sterne         Datum  Likes  \\\n",
       "0  Manskestraße 22, 31275 Lehrte       4   a month ago      0   \n",
       "1  Manskestraße 22, 31275 Lehrte       5    a year ago      2   \n",
       "2  Manskestraße 22, 31275 Lehrte       5   a month ago      0   \n",
       "3  Manskestraße 22, 31275 Lehrte       5  2 months ago      2   \n",
       "4  Manskestraße 22, 31275 Lehrte       5   a month ago      0   \n",
       "\n",
       "                                            Englisch  \\\n",
       "0   My father was admitted to the intensive care ...   \n",
       "1   Station 4 is great. I came to the emergency r...   \n",
       "2   Everyone was super nice and helpful. Despite ...   \n",
       "3   When I read all of this I don't come here for...   \n",
       "4   My husband was operated on by Dr Remerey in O...   \n",
       "\n",
       "                                             Deutsch  Senti_Score  \n",
       "0   Mein Vater ist in diesem KH in die Intensivst...     0.000000  \n",
       "1   Station 4 ist super. Ich bin heute Nacht in d...     0.462500  \n",
       "2   Alle super nett und hilfsbereit. Trotz sponta...     0.100000  \n",
       "3   Wenn ich das alles hier lese. Ich komme hier ...     0.000000  \n",
       "4   Mein Mann wurde im Oktober 2016 von Dr.Fremer...     0.307143  "
      ]
     },
     "execution_count": 21,
     "metadata": {},
     "output_type": "execute_result"
    }
   ],
   "source": [
    "google_maps.head()"
   ]
  },
  {
   "cell_type": "code",
   "execution_count": 22,
   "metadata": {},
   "outputs": [
    {
     "data": {
      "text/plain": [
       " 0.000000    718\n",
       " 1.000000    171\n",
       " 0.500000     89\n",
       " 0.333333     43\n",
       "-1.000000     32\n",
       "            ... \n",
       " 0.127778      1\n",
       "-0.015152      1\n",
       " 0.064247      1\n",
       " 0.415625      1\n",
       " 0.231818      1\n",
       "Name: Senti_Score, Length: 492, dtype: int64"
      ]
     },
     "execution_count": 22,
     "metadata": {},
     "output_type": "execute_result"
    }
   ],
   "source": [
    "google_maps['Senti_Score'].value_counts()"
   ]
  },
  {
   "cell_type": "markdown",
   "metadata": {},
   "source": [
    "## Machine Learning"
   ]
  },
  {
   "cell_type": "markdown",
   "metadata": {},
   "source": [
    "### K-Means Clustering"
   ]
  },
  {
   "cell_type": "code",
   "execution_count": 23,
   "metadata": {},
   "outputs": [],
   "source": [
    "import numpy as np \n",
    "import matplotlib.pyplot as plt \n",
    "from sklearn.cluster import KMeans \n",
    "%matplotlib inline"
   ]
  },
  {
   "cell_type": "markdown",
   "metadata": {},
   "source": [
    "##### Pre - Processing"
   ]
  },
  {
   "cell_type": "markdown",
   "metadata": {},
   "source": [
    "Wie gesehen, sind einige Variablen in diesem Datensatz kategoriale Variable. Der k-means-Algorithmus ist nicht direkt auf kategoriale Variablen anwendbar, da die euklidische Distanzfunktion für diskrete Variablen nicht wirklich von Bedeutung ist. Lassen Sie uns diese Funktion löschen und das Clustering ausführen."
   ]
  },
  {
   "cell_type": "code",
   "execution_count": 35,
   "metadata": {},
   "outputs": [],
   "source": [
    "maps_ml = google_maps[['Name','Zahl der Kommentaren','Sterne','Likes','Senti_Score']]"
   ]
  },
  {
   "cell_type": "code",
   "execution_count": 36,
   "metadata": {
    "scrolled": true
   },
   "outputs": [
    {
     "data": {
      "text/html": [
       "<div>\n",
       "<style scoped>\n",
       "    .dataframe tbody tr th:only-of-type {\n",
       "        vertical-align: middle;\n",
       "    }\n",
       "\n",
       "    .dataframe tbody tr th {\n",
       "        vertical-align: top;\n",
       "    }\n",
       "\n",
       "    .dataframe thead th {\n",
       "        text-align: right;\n",
       "    }\n",
       "</style>\n",
       "<table border=\"1\" class=\"dataframe\">\n",
       "  <thead>\n",
       "    <tr style=\"text-align: right;\">\n",
       "      <th></th>\n",
       "      <th>Name</th>\n",
       "      <th>Zahl der Kommentaren</th>\n",
       "      <th>Sterne</th>\n",
       "      <th>Likes</th>\n",
       "      <th>Senti_Score</th>\n",
       "    </tr>\n",
       "  </thead>\n",
       "  <tbody>\n",
       "    <tr>\n",
       "      <th>0</th>\n",
       "      <td>KRH Klinikum Lehrte</td>\n",
       "      <td>87</td>\n",
       "      <td>4</td>\n",
       "      <td>0</td>\n",
       "      <td>0.000000</td>\n",
       "    </tr>\n",
       "    <tr>\n",
       "      <th>1</th>\n",
       "      <td>KRH Klinikum Lehrte</td>\n",
       "      <td>87</td>\n",
       "      <td>5</td>\n",
       "      <td>2</td>\n",
       "      <td>0.462500</td>\n",
       "    </tr>\n",
       "    <tr>\n",
       "      <th>2</th>\n",
       "      <td>KRH Klinikum Lehrte</td>\n",
       "      <td>87</td>\n",
       "      <td>5</td>\n",
       "      <td>0</td>\n",
       "      <td>0.100000</td>\n",
       "    </tr>\n",
       "    <tr>\n",
       "      <th>3</th>\n",
       "      <td>KRH Klinikum Lehrte</td>\n",
       "      <td>87</td>\n",
       "      <td>5</td>\n",
       "      <td>2</td>\n",
       "      <td>0.000000</td>\n",
       "    </tr>\n",
       "    <tr>\n",
       "      <th>4</th>\n",
       "      <td>KRH Klinikum Lehrte</td>\n",
       "      <td>87</td>\n",
       "      <td>5</td>\n",
       "      <td>0</td>\n",
       "      <td>0.307143</td>\n",
       "    </tr>\n",
       "  </tbody>\n",
       "</table>\n",
       "</div>"
      ],
      "text/plain": [
       "                  Name  Zahl der Kommentaren  Sterne  Likes  Senti_Score\n",
       "0  KRH Klinikum Lehrte                    87       4      0     0.000000\n",
       "1  KRH Klinikum Lehrte                    87       5      2     0.462500\n",
       "2  KRH Klinikum Lehrte                    87       5      0     0.100000\n",
       "3  KRH Klinikum Lehrte                    87       5      2     0.000000\n",
       "4  KRH Klinikum Lehrte                    87       5      0     0.307143"
      ]
     },
     "execution_count": 36,
     "metadata": {},
     "output_type": "execute_result"
    }
   ],
   "source": [
    "maps_ml.head()"
   ]
  },
  {
   "cell_type": "markdown",
   "metadata": {},
   "source": [
    "Erhöhen wir den Effekt der Anzahl der Sterne in der Anzahl der Likes."
   ]
  },
  {
   "cell_type": "code",
   "execution_count": 39,
   "metadata": {},
   "outputs": [],
   "source": [
    "maps_ml['Stern_Like'] = maps_ml['Sterne'] * maps_ml['Likes']"
   ]
  },
  {
   "cell_type": "code",
   "execution_count": 40,
   "metadata": {
    "scrolled": true
   },
   "outputs": [
    {
     "data": {
      "text/html": [
       "<div>\n",
       "<style scoped>\n",
       "    .dataframe tbody tr th:only-of-type {\n",
       "        vertical-align: middle;\n",
       "    }\n",
       "\n",
       "    .dataframe tbody tr th {\n",
       "        vertical-align: top;\n",
       "    }\n",
       "\n",
       "    .dataframe thead th {\n",
       "        text-align: right;\n",
       "    }\n",
       "</style>\n",
       "<table border=\"1\" class=\"dataframe\">\n",
       "  <thead>\n",
       "    <tr style=\"text-align: right;\">\n",
       "      <th></th>\n",
       "      <th>Name</th>\n",
       "      <th>Zahl der Kommentaren</th>\n",
       "      <th>Sterne</th>\n",
       "      <th>Likes</th>\n",
       "      <th>Senti_Score</th>\n",
       "      <th>Stern_Like</th>\n",
       "    </tr>\n",
       "  </thead>\n",
       "  <tbody>\n",
       "    <tr>\n",
       "      <th>0</th>\n",
       "      <td>KRH Klinikum Lehrte</td>\n",
       "      <td>87</td>\n",
       "      <td>4</td>\n",
       "      <td>0</td>\n",
       "      <td>0.000000</td>\n",
       "      <td>0</td>\n",
       "    </tr>\n",
       "    <tr>\n",
       "      <th>1</th>\n",
       "      <td>KRH Klinikum Lehrte</td>\n",
       "      <td>87</td>\n",
       "      <td>5</td>\n",
       "      <td>2</td>\n",
       "      <td>0.462500</td>\n",
       "      <td>10</td>\n",
       "    </tr>\n",
       "    <tr>\n",
       "      <th>2</th>\n",
       "      <td>KRH Klinikum Lehrte</td>\n",
       "      <td>87</td>\n",
       "      <td>5</td>\n",
       "      <td>0</td>\n",
       "      <td>0.100000</td>\n",
       "      <td>0</td>\n",
       "    </tr>\n",
       "    <tr>\n",
       "      <th>3</th>\n",
       "      <td>KRH Klinikum Lehrte</td>\n",
       "      <td>87</td>\n",
       "      <td>5</td>\n",
       "      <td>2</td>\n",
       "      <td>0.000000</td>\n",
       "      <td>10</td>\n",
       "    </tr>\n",
       "    <tr>\n",
       "      <th>4</th>\n",
       "      <td>KRH Klinikum Lehrte</td>\n",
       "      <td>87</td>\n",
       "      <td>5</td>\n",
       "      <td>0</td>\n",
       "      <td>0.307143</td>\n",
       "      <td>0</td>\n",
       "    </tr>\n",
       "  </tbody>\n",
       "</table>\n",
       "</div>"
      ],
      "text/plain": [
       "                  Name  Zahl der Kommentaren  Sterne  Likes  Senti_Score  \\\n",
       "0  KRH Klinikum Lehrte                    87       4      0     0.000000   \n",
       "1  KRH Klinikum Lehrte                    87       5      2     0.462500   \n",
       "2  KRH Klinikum Lehrte                    87       5      0     0.100000   \n",
       "3  KRH Klinikum Lehrte                    87       5      2     0.000000   \n",
       "4  KRH Klinikum Lehrte                    87       5      0     0.307143   \n",
       "\n",
       "   Stern_Like  \n",
       "0           0  \n",
       "1          10  \n",
       "2           0  \n",
       "3          10  \n",
       "4           0  "
      ]
     },
     "execution_count": 40,
     "metadata": {},
     "output_type": "execute_result"
    }
   ],
   "source": [
    "maps_ml.head()"
   ]
  },
  {
   "cell_type": "code",
   "execution_count": 44,
   "metadata": {},
   "outputs": [
    {
     "data": {
      "text/html": [
       "<div>\n",
       "<style scoped>\n",
       "    .dataframe tbody tr th:only-of-type {\n",
       "        vertical-align: middle;\n",
       "    }\n",
       "\n",
       "    .dataframe tbody tr th {\n",
       "        vertical-align: top;\n",
       "    }\n",
       "\n",
       "    .dataframe thead th {\n",
       "        text-align: right;\n",
       "    }\n",
       "</style>\n",
       "<table border=\"1\" class=\"dataframe\">\n",
       "  <thead>\n",
       "    <tr style=\"text-align: right;\">\n",
       "      <th></th>\n",
       "      <th>Stern_Like</th>\n",
       "      <th>Likes</th>\n",
       "    </tr>\n",
       "    <tr>\n",
       "      <th>Name</th>\n",
       "      <th></th>\n",
       "      <th></th>\n",
       "    </tr>\n",
       "  </thead>\n",
       "  <tbody>\n",
       "    <tr>\n",
       "      <th>AMEOS Hospital Alfeld</th>\n",
       "      <td>258</td>\n",
       "      <td>118</td>\n",
       "    </tr>\n",
       "    <tr>\n",
       "      <th>Asklepios Hospital Göttingen</th>\n",
       "      <td>391</td>\n",
       "      <td>209</td>\n",
       "    </tr>\n",
       "    <tr>\n",
       "      <th>Asklepios Hospital Tiefenbrunn</th>\n",
       "      <td>134</td>\n",
       "      <td>62</td>\n",
       "    </tr>\n",
       "    <tr>\n",
       "      <th>Augenklinik Dr. Hoffmann</th>\n",
       "      <td>322</td>\n",
       "      <td>92</td>\n",
       "    </tr>\n",
       "    <tr>\n",
       "      <th>DIAKOVERE Annastift</th>\n",
       "      <td>555</td>\n",
       "      <td>160</td>\n",
       "    </tr>\n",
       "    <tr>\n",
       "      <th>DIAKOVERE Friederikenstift</th>\n",
       "      <td>743</td>\n",
       "      <td>396</td>\n",
       "    </tr>\n",
       "    <tr>\n",
       "      <th>DRK-Krankenhaus Clementinenhaus</th>\n",
       "      <td>914</td>\n",
       "      <td>239</td>\n",
       "    </tr>\n",
       "    <tr>\n",
       "      <th>Helios Klinikum Hildesheim</th>\n",
       "      <td>930</td>\n",
       "      <td>548</td>\n",
       "    </tr>\n",
       "    <tr>\n",
       "      <th>Herzogin Elisabeth Hospital</th>\n",
       "      <td>1079</td>\n",
       "      <td>263</td>\n",
       "    </tr>\n",
       "    <tr>\n",
       "      <th>KRH Klinikum Großburgwedel</th>\n",
       "      <td>301</td>\n",
       "      <td>149</td>\n",
       "    </tr>\n",
       "    <tr>\n",
       "      <th>KRH Klinikum Lehrte</th>\n",
       "      <td>201</td>\n",
       "      <td>75</td>\n",
       "    </tr>\n",
       "    <tr>\n",
       "      <th>Krankenhaus Lindenbrunn</th>\n",
       "      <td>418</td>\n",
       "      <td>240</td>\n",
       "    </tr>\n",
       "    <tr>\n",
       "      <th>Krankenhaus Marienstift gGmbH</th>\n",
       "      <td>236</td>\n",
       "      <td>71</td>\n",
       "    </tr>\n",
       "    <tr>\n",
       "      <th>Sana Klinikum Hameln-Pyrmont</th>\n",
       "      <td>1045</td>\n",
       "      <td>545</td>\n",
       "    </tr>\n",
       "    <tr>\n",
       "      <th>Sophienklinik GmbH</th>\n",
       "      <td>263</td>\n",
       "      <td>88</td>\n",
       "    </tr>\n",
       "  </tbody>\n",
       "</table>\n",
       "</div>"
      ],
      "text/plain": [
       "                                 Stern_Like  Likes\n",
       "Name                                              \n",
       "AMEOS Hospital Alfeld                   258    118\n",
       "Asklepios Hospital Göttingen            391    209\n",
       "Asklepios Hospital Tiefenbrunn          134     62\n",
       "Augenklinik Dr. Hoffmann                322     92\n",
       "DIAKOVERE Annastift                     555    160\n",
       "DIAKOVERE Friederikenstift              743    396\n",
       "DRK-Krankenhaus Clementinenhaus         914    239\n",
       "Helios Klinikum Hildesheim              930    548\n",
       "Herzogin Elisabeth Hospital            1079    263\n",
       "KRH Klinikum Großburgwedel              301    149\n",
       "KRH Klinikum Lehrte                     201     75\n",
       "Krankenhaus Lindenbrunn                 418    240\n",
       "Krankenhaus Marienstift gGmbH           236     71\n",
       "Sana Klinikum Hameln-Pyrmont           1045    545\n",
       "Sophienklinik GmbH                      263     88"
      ]
     },
     "execution_count": 44,
     "metadata": {},
     "output_type": "execute_result"
    }
   ],
   "source": [
    "stern_like = maps_ml.groupby('Name')['Stern_Like', 'Likes'].sum()\n",
    "stern_like"
   ]
  },
  {
   "cell_type": "code",
   "execution_count": 45,
   "metadata": {},
   "outputs": [],
   "source": [
    "stern_like['Avg_Stern'] = stern_like['Stern_Like'] / stern_like['Likes']"
   ]
  },
  {
   "cell_type": "code",
   "execution_count": 47,
   "metadata": {},
   "outputs": [],
   "source": [
    "sentiment_avg = maps_ml.groupby('Name')['Senti_Score','Zahl der Kommentaren'].mean()"
   ]
  },
  {
   "cell_type": "code",
   "execution_count": 48,
   "metadata": {
    "scrolled": true
   },
   "outputs": [
    {
     "data": {
      "text/html": [
       "<div>\n",
       "<style scoped>\n",
       "    .dataframe tbody tr th:only-of-type {\n",
       "        vertical-align: middle;\n",
       "    }\n",
       "\n",
       "    .dataframe tbody tr th {\n",
       "        vertical-align: top;\n",
       "    }\n",
       "\n",
       "    .dataframe thead th {\n",
       "        text-align: right;\n",
       "    }\n",
       "</style>\n",
       "<table border=\"1\" class=\"dataframe\">\n",
       "  <thead>\n",
       "    <tr style=\"text-align: right;\">\n",
       "      <th></th>\n",
       "      <th>Senti_Score</th>\n",
       "      <th>Zahl der Kommentaren</th>\n",
       "    </tr>\n",
       "    <tr>\n",
       "      <th>Name</th>\n",
       "      <th></th>\n",
       "      <th></th>\n",
       "    </tr>\n",
       "  </thead>\n",
       "  <tbody>\n",
       "    <tr>\n",
       "      <th>AMEOS Hospital Alfeld</th>\n",
       "      <td>0.178505</td>\n",
       "      <td>70</td>\n",
       "    </tr>\n",
       "    <tr>\n",
       "      <th>Asklepios Hospital Göttingen</th>\n",
       "      <td>0.041994</td>\n",
       "      <td>57</td>\n",
       "    </tr>\n",
       "    <tr>\n",
       "      <th>Asklepios Hospital Tiefenbrunn</th>\n",
       "      <td>0.054000</td>\n",
       "      <td>25</td>\n",
       "    </tr>\n",
       "    <tr>\n",
       "      <th>Augenklinik Dr. Hoffmann</th>\n",
       "      <td>0.394743</td>\n",
       "      <td>108</td>\n",
       "    </tr>\n",
       "    <tr>\n",
       "      <th>DIAKOVERE Annastift</th>\n",
       "      <td>0.227656</td>\n",
       "      <td>98</td>\n",
       "    </tr>\n",
       "    <tr>\n",
       "      <th>DIAKOVERE Friederikenstift</th>\n",
       "      <td>0.168211</td>\n",
       "      <td>264</td>\n",
       "    </tr>\n",
       "    <tr>\n",
       "      <th>DRK-Krankenhaus Clementinenhaus</th>\n",
       "      <td>0.326441</td>\n",
       "      <td>178</td>\n",
       "    </tr>\n",
       "    <tr>\n",
       "      <th>Helios Klinikum Hildesheim</th>\n",
       "      <td>0.149909</td>\n",
       "      <td>307</td>\n",
       "    </tr>\n",
       "    <tr>\n",
       "      <th>Herzogin Elisabeth Hospital</th>\n",
       "      <td>0.311041</td>\n",
       "      <td>140</td>\n",
       "    </tr>\n",
       "    <tr>\n",
       "      <th>KRH Klinikum Großburgwedel</th>\n",
       "      <td>0.194117</td>\n",
       "      <td>113</td>\n",
       "    </tr>\n",
       "    <tr>\n",
       "      <th>KRH Klinikum Lehrte</th>\n",
       "      <td>0.164584</td>\n",
       "      <td>87</td>\n",
       "    </tr>\n",
       "    <tr>\n",
       "      <th>Krankenhaus Lindenbrunn</th>\n",
       "      <td>0.112246</td>\n",
       "      <td>44</td>\n",
       "    </tr>\n",
       "    <tr>\n",
       "      <th>Krankenhaus Marienstift gGmbH</th>\n",
       "      <td>0.181576</td>\n",
       "      <td>86</td>\n",
       "    </tr>\n",
       "    <tr>\n",
       "      <th>Sana Klinikum Hameln-Pyrmont</th>\n",
       "      <td>0.080669</td>\n",
       "      <td>277</td>\n",
       "    </tr>\n",
       "    <tr>\n",
       "      <th>Sophienklinik GmbH</th>\n",
       "      <td>0.288703</td>\n",
       "      <td>116</td>\n",
       "    </tr>\n",
       "  </tbody>\n",
       "</table>\n",
       "</div>"
      ],
      "text/plain": [
       "                                 Senti_Score  Zahl der Kommentaren\n",
       "Name                                                              \n",
       "AMEOS Hospital Alfeld               0.178505                    70\n",
       "Asklepios Hospital Göttingen        0.041994                    57\n",
       "Asklepios Hospital Tiefenbrunn      0.054000                    25\n",
       "Augenklinik Dr. Hoffmann            0.394743                   108\n",
       "DIAKOVERE Annastift                 0.227656                    98\n",
       "DIAKOVERE Friederikenstift          0.168211                   264\n",
       "DRK-Krankenhaus Clementinenhaus     0.326441                   178\n",
       "Helios Klinikum Hildesheim          0.149909                   307\n",
       "Herzogin Elisabeth Hospital         0.311041                   140\n",
       "KRH Klinikum Großburgwedel          0.194117                   113\n",
       "KRH Klinikum Lehrte                 0.164584                    87\n",
       "Krankenhaus Lindenbrunn             0.112246                    44\n",
       "Krankenhaus Marienstift gGmbH       0.181576                    86\n",
       "Sana Klinikum Hameln-Pyrmont        0.080669                   277\n",
       "Sophienklinik GmbH                  0.288703                   116"
      ]
     },
     "execution_count": 48,
     "metadata": {},
     "output_type": "execute_result"
    }
   ],
   "source": [
    "sentiment_avg"
   ]
  },
  {
   "cell_type": "code",
   "execution_count": 50,
   "metadata": {},
   "outputs": [],
   "source": [
    "cluster_df = pd.concat([stern_like,sentiment_avg], axis=1)"
   ]
  },
  {
   "cell_type": "code",
   "execution_count": 53,
   "metadata": {},
   "outputs": [],
   "source": [
    "columns_to_drop = ['Stern_Like', 'Likes']\n",
    "\n",
    "cluster_df = cluster_df.drop(columns_to_drop, axis=1)"
   ]
  },
  {
   "cell_type": "code",
   "execution_count": 54,
   "metadata": {},
   "outputs": [
    {
     "data": {
      "text/html": [
       "<div>\n",
       "<style scoped>\n",
       "    .dataframe tbody tr th:only-of-type {\n",
       "        vertical-align: middle;\n",
       "    }\n",
       "\n",
       "    .dataframe tbody tr th {\n",
       "        vertical-align: top;\n",
       "    }\n",
       "\n",
       "    .dataframe thead th {\n",
       "        text-align: right;\n",
       "    }\n",
       "</style>\n",
       "<table border=\"1\" class=\"dataframe\">\n",
       "  <thead>\n",
       "    <tr style=\"text-align: right;\">\n",
       "      <th></th>\n",
       "      <th>Avg_Stern</th>\n",
       "      <th>Senti_Score</th>\n",
       "      <th>Zahl der Kommentaren</th>\n",
       "    </tr>\n",
       "    <tr>\n",
       "      <th>Name</th>\n",
       "      <th></th>\n",
       "      <th></th>\n",
       "      <th></th>\n",
       "    </tr>\n",
       "  </thead>\n",
       "  <tbody>\n",
       "    <tr>\n",
       "      <th>AMEOS Hospital Alfeld</th>\n",
       "      <td>2.186441</td>\n",
       "      <td>0.178505</td>\n",
       "      <td>70</td>\n",
       "    </tr>\n",
       "    <tr>\n",
       "      <th>Asklepios Hospital Göttingen</th>\n",
       "      <td>1.870813</td>\n",
       "      <td>0.041994</td>\n",
       "      <td>57</td>\n",
       "    </tr>\n",
       "    <tr>\n",
       "      <th>Asklepios Hospital Tiefenbrunn</th>\n",
       "      <td>2.161290</td>\n",
       "      <td>0.054000</td>\n",
       "      <td>25</td>\n",
       "    </tr>\n",
       "    <tr>\n",
       "      <th>Augenklinik Dr. Hoffmann</th>\n",
       "      <td>3.500000</td>\n",
       "      <td>0.394743</td>\n",
       "      <td>108</td>\n",
       "    </tr>\n",
       "    <tr>\n",
       "      <th>DIAKOVERE Annastift</th>\n",
       "      <td>3.468750</td>\n",
       "      <td>0.227656</td>\n",
       "      <td>98</td>\n",
       "    </tr>\n",
       "    <tr>\n",
       "      <th>DIAKOVERE Friederikenstift</th>\n",
       "      <td>1.876263</td>\n",
       "      <td>0.168211</td>\n",
       "      <td>264</td>\n",
       "    </tr>\n",
       "    <tr>\n",
       "      <th>DRK-Krankenhaus Clementinenhaus</th>\n",
       "      <td>3.824268</td>\n",
       "      <td>0.326441</td>\n",
       "      <td>178</td>\n",
       "    </tr>\n",
       "    <tr>\n",
       "      <th>Helios Klinikum Hildesheim</th>\n",
       "      <td>1.697080</td>\n",
       "      <td>0.149909</td>\n",
       "      <td>307</td>\n",
       "    </tr>\n",
       "    <tr>\n",
       "      <th>Herzogin Elisabeth Hospital</th>\n",
       "      <td>4.102662</td>\n",
       "      <td>0.311041</td>\n",
       "      <td>140</td>\n",
       "    </tr>\n",
       "    <tr>\n",
       "      <th>KRH Klinikum Großburgwedel</th>\n",
       "      <td>2.020134</td>\n",
       "      <td>0.194117</td>\n",
       "      <td>113</td>\n",
       "    </tr>\n",
       "    <tr>\n",
       "      <th>KRH Klinikum Lehrte</th>\n",
       "      <td>2.680000</td>\n",
       "      <td>0.164584</td>\n",
       "      <td>87</td>\n",
       "    </tr>\n",
       "    <tr>\n",
       "      <th>Krankenhaus Lindenbrunn</th>\n",
       "      <td>1.741667</td>\n",
       "      <td>0.112246</td>\n",
       "      <td>44</td>\n",
       "    </tr>\n",
       "    <tr>\n",
       "      <th>Krankenhaus Marienstift gGmbH</th>\n",
       "      <td>3.323944</td>\n",
       "      <td>0.181576</td>\n",
       "      <td>86</td>\n",
       "    </tr>\n",
       "    <tr>\n",
       "      <th>Sana Klinikum Hameln-Pyrmont</th>\n",
       "      <td>1.917431</td>\n",
       "      <td>0.080669</td>\n",
       "      <td>277</td>\n",
       "    </tr>\n",
       "    <tr>\n",
       "      <th>Sophienklinik GmbH</th>\n",
       "      <td>2.988636</td>\n",
       "      <td>0.288703</td>\n",
       "      <td>116</td>\n",
       "    </tr>\n",
       "  </tbody>\n",
       "</table>\n",
       "</div>"
      ],
      "text/plain": [
       "                                 Avg_Stern  Senti_Score  Zahl der Kommentaren\n",
       "Name                                                                         \n",
       "AMEOS Hospital Alfeld             2.186441     0.178505                    70\n",
       "Asklepios Hospital Göttingen      1.870813     0.041994                    57\n",
       "Asklepios Hospital Tiefenbrunn    2.161290     0.054000                    25\n",
       "Augenklinik Dr. Hoffmann          3.500000     0.394743                   108\n",
       "DIAKOVERE Annastift               3.468750     0.227656                    98\n",
       "DIAKOVERE Friederikenstift        1.876263     0.168211                   264\n",
       "DRK-Krankenhaus Clementinenhaus   3.824268     0.326441                   178\n",
       "Helios Klinikum Hildesheim        1.697080     0.149909                   307\n",
       "Herzogin Elisabeth Hospital       4.102662     0.311041                   140\n",
       "KRH Klinikum Großburgwedel        2.020134     0.194117                   113\n",
       "KRH Klinikum Lehrte               2.680000     0.164584                    87\n",
       "Krankenhaus Lindenbrunn           1.741667     0.112246                    44\n",
       "Krankenhaus Marienstift gGmbH     3.323944     0.181576                    86\n",
       "Sana Klinikum Hameln-Pyrmont      1.917431     0.080669                   277\n",
       "Sophienklinik GmbH                2.988636     0.288703                   116"
      ]
     },
     "execution_count": 54,
     "metadata": {},
     "output_type": "execute_result"
    }
   ],
   "source": [
    "cluster_df"
   ]
  },
  {
   "cell_type": "code",
   "execution_count": 55,
   "metadata": {},
   "outputs": [
    {
     "data": {
      "text/html": [
       "<div>\n",
       "<style scoped>\n",
       "    .dataframe tbody tr th:only-of-type {\n",
       "        vertical-align: middle;\n",
       "    }\n",
       "\n",
       "    .dataframe tbody tr th {\n",
       "        vertical-align: top;\n",
       "    }\n",
       "\n",
       "    .dataframe thead th {\n",
       "        text-align: right;\n",
       "    }\n",
       "</style>\n",
       "<table border=\"1\" class=\"dataframe\">\n",
       "  <thead>\n",
       "    <tr style=\"text-align: right;\">\n",
       "      <th></th>\n",
       "      <th>Avg_Stern</th>\n",
       "      <th>Senti_Score</th>\n",
       "      <th>Zahl der Kommentaren</th>\n",
       "    </tr>\n",
       "  </thead>\n",
       "  <tbody>\n",
       "    <tr>\n",
       "      <th>0</th>\n",
       "      <td>2.186441</td>\n",
       "      <td>0.178505</td>\n",
       "      <td>70</td>\n",
       "    </tr>\n",
       "    <tr>\n",
       "      <th>1</th>\n",
       "      <td>1.870813</td>\n",
       "      <td>0.041994</td>\n",
       "      <td>57</td>\n",
       "    </tr>\n",
       "    <tr>\n",
       "      <th>2</th>\n",
       "      <td>2.161290</td>\n",
       "      <td>0.054000</td>\n",
       "      <td>25</td>\n",
       "    </tr>\n",
       "    <tr>\n",
       "      <th>3</th>\n",
       "      <td>3.500000</td>\n",
       "      <td>0.394743</td>\n",
       "      <td>108</td>\n",
       "    </tr>\n",
       "    <tr>\n",
       "      <th>4</th>\n",
       "      <td>3.468750</td>\n",
       "      <td>0.227656</td>\n",
       "      <td>98</td>\n",
       "    </tr>\n",
       "    <tr>\n",
       "      <th>5</th>\n",
       "      <td>1.876263</td>\n",
       "      <td>0.168211</td>\n",
       "      <td>264</td>\n",
       "    </tr>\n",
       "    <tr>\n",
       "      <th>6</th>\n",
       "      <td>3.824268</td>\n",
       "      <td>0.326441</td>\n",
       "      <td>178</td>\n",
       "    </tr>\n",
       "    <tr>\n",
       "      <th>7</th>\n",
       "      <td>1.697080</td>\n",
       "      <td>0.149909</td>\n",
       "      <td>307</td>\n",
       "    </tr>\n",
       "    <tr>\n",
       "      <th>8</th>\n",
       "      <td>4.102662</td>\n",
       "      <td>0.311041</td>\n",
       "      <td>140</td>\n",
       "    </tr>\n",
       "    <tr>\n",
       "      <th>9</th>\n",
       "      <td>2.020134</td>\n",
       "      <td>0.194117</td>\n",
       "      <td>113</td>\n",
       "    </tr>\n",
       "    <tr>\n",
       "      <th>10</th>\n",
       "      <td>2.680000</td>\n",
       "      <td>0.164584</td>\n",
       "      <td>87</td>\n",
       "    </tr>\n",
       "    <tr>\n",
       "      <th>11</th>\n",
       "      <td>1.741667</td>\n",
       "      <td>0.112246</td>\n",
       "      <td>44</td>\n",
       "    </tr>\n",
       "    <tr>\n",
       "      <th>12</th>\n",
       "      <td>3.323944</td>\n",
       "      <td>0.181576</td>\n",
       "      <td>86</td>\n",
       "    </tr>\n",
       "    <tr>\n",
       "      <th>13</th>\n",
       "      <td>1.917431</td>\n",
       "      <td>0.080669</td>\n",
       "      <td>277</td>\n",
       "    </tr>\n",
       "    <tr>\n",
       "      <th>14</th>\n",
       "      <td>2.988636</td>\n",
       "      <td>0.288703</td>\n",
       "      <td>116</td>\n",
       "    </tr>\n",
       "  </tbody>\n",
       "</table>\n",
       "</div>"
      ],
      "text/plain": [
       "    Avg_Stern  Senti_Score  Zahl der Kommentaren\n",
       "0    2.186441     0.178505                    70\n",
       "1    1.870813     0.041994                    57\n",
       "2    2.161290     0.054000                    25\n",
       "3    3.500000     0.394743                   108\n",
       "4    3.468750     0.227656                    98\n",
       "5    1.876263     0.168211                   264\n",
       "6    3.824268     0.326441                   178\n",
       "7    1.697080     0.149909                   307\n",
       "8    4.102662     0.311041                   140\n",
       "9    2.020134     0.194117                   113\n",
       "10   2.680000     0.164584                    87\n",
       "11   1.741667     0.112246                    44\n",
       "12   3.323944     0.181576                    86\n",
       "13   1.917431     0.080669                   277\n",
       "14   2.988636     0.288703                   116"
      ]
     },
     "execution_count": 55,
     "metadata": {},
     "output_type": "execute_result"
    }
   ],
   "source": [
    "clustering = cluster_df.reset_index(drop=True)\n",
    "clustering"
   ]
  },
  {
   "cell_type": "code",
   "execution_count": 56,
   "metadata": {
    "scrolled": true
   },
   "outputs": [
    {
     "data": {
      "text/plain": [
       "array([[-0.13224982, -0.72823701],\n",
       "       [-1.50815463, -0.88259159],\n",
       "       [-1.38714354, -1.26254133],\n",
       "       [ 2.04722196, -0.27704669],\n",
       "       [ 0.36314251, -0.39578098],\n",
       "       [-0.23600801,  1.57520831],\n",
       "       [ 1.35880652,  0.55409337],\n",
       "       [-0.42047405,  2.08576577],\n",
       "       [ 1.20358738,  0.10290306],\n",
       "       [ 0.0251058 , -0.21767954],\n",
       "       [-0.2725608 , -0.52638871],\n",
       "       [-0.80007883, -1.03694617],\n",
       "       [-0.1012936 , -0.53826214],\n",
       "       [-1.11834299,  1.72956289],\n",
       "       [ 0.97844211, -0.18205925]])"
      ]
     },
     "execution_count": 56,
     "metadata": {},
     "output_type": "execute_result"
    }
   ],
   "source": [
    "from sklearn.preprocessing import StandardScaler\n",
    "X = clustering.values[:,1:]\n",
    "X = np.nan_to_num(X)\n",
    "Clus_dataSet = StandardScaler().fit_transform(X)\n",
    "Clus_dataSet"
   ]
  },
  {
   "cell_type": "markdown",
   "metadata": {},
   "source": [
    "### Modeling"
   ]
  },
  {
   "cell_type": "markdown",
   "metadata": {},
   "source": [
    "Es wäre dasselbe wie zu erraten, dass jede Klinikgruppe bestimmte Sterne, Likes, Sentimentswerte usw. mit mehreren Tests und Experimenten haben würde. Mit dem K-Means-Clustering können wir diesen Vorgang jedoch viel einfacher durchführen."
   ]
  },
  {
   "cell_type": "code",
   "execution_count": 70,
   "metadata": {},
   "outputs": [],
   "source": [
    "from yellowbrick.cluster import KElbowVisualizer"
   ]
  },
  {
   "cell_type": "code",
   "execution_count": 72,
   "metadata": {},
   "outputs": [
    {
     "data": {
      "image/png": "[encoded data removed]",
      "text/plain": [
       "<Figure size 576x396 with 2 Axes>"
      ]
     },
     "metadata": {},
     "output_type": "display_data"
    },
    {
     "data": {
      "text/plain": [
       "<matplotlib.axes._subplots.AxesSubplot at 0x7ff23b086370>"
      ]
     },
     "execution_count": 72,
     "metadata": {},
     "output_type": "execute_result"
    }
   ],
   "source": [
    "kmeans = KMeans()\n",
    "visu = KElbowVisualizer(kmeans, k = (2,7))\n",
    "visu.fit(Clus_dataSet)\n",
    "visu.poof()"
   ]
  },
  {
   "cell_type": "code",
   "execution_count": null,
   "metadata": {},
   "outputs": [],
   "source": []
  },
  {
   "cell_type": "code",
   "execution_count": 73,
   "metadata": {},
   "outputs": [
    {
     "name": "stdout",
     "output_type": "stream",
     "text": [
      "[0 0 0 2 2 1 2 1 2 2 0 0 0 1 2]\n"
     ]
    }
   ],
   "source": [
    "clusterNum = 3\n",
    "k_means = KMeans(init = \"k-means++\", n_clusters = clusterNum, n_init = 12)\n",
    "k_means.fit(X)\n",
    "labels = k_means.labels_\n",
    "print(labels)"
   ]
  },
  {
   "cell_type": "code",
   "execution_count": 74,
   "metadata": {},
   "outputs": [],
   "source": [
    "cluster_df[\"Clusters\"] = labels"
   ]
  },
  {
   "cell_type": "code",
   "execution_count": 75,
   "metadata": {},
   "outputs": [
    {
     "data": {
      "text/html": [
       "<div>\n",
       "<style scoped>\n",
       "    .dataframe tbody tr th:only-of-type {\n",
       "        vertical-align: middle;\n",
       "    }\n",
       "\n",
       "    .dataframe tbody tr th {\n",
       "        vertical-align: top;\n",
       "    }\n",
       "\n",
       "    .dataframe thead th {\n",
       "        text-align: right;\n",
       "    }\n",
       "</style>\n",
       "<table border=\"1\" class=\"dataframe\">\n",
       "  <thead>\n",
       "    <tr style=\"text-align: right;\">\n",
       "      <th></th>\n",
       "      <th>Avg_Stern</th>\n",
       "      <th>Senti_Score</th>\n",
       "      <th>Zahl der Kommentaren</th>\n",
       "      <th>Clusters</th>\n",
       "    </tr>\n",
       "    <tr>\n",
       "      <th>Name</th>\n",
       "      <th></th>\n",
       "      <th></th>\n",
       "      <th></th>\n",
       "      <th></th>\n",
       "    </tr>\n",
       "  </thead>\n",
       "  <tbody>\n",
       "    <tr>\n",
       "      <th>AMEOS Hospital Alfeld</th>\n",
       "      <td>2.186441</td>\n",
       "      <td>0.178505</td>\n",
       "      <td>70</td>\n",
       "      <td>0</td>\n",
       "    </tr>\n",
       "    <tr>\n",
       "      <th>Asklepios Hospital Göttingen</th>\n",
       "      <td>1.870813</td>\n",
       "      <td>0.041994</td>\n",
       "      <td>57</td>\n",
       "      <td>0</td>\n",
       "    </tr>\n",
       "    <tr>\n",
       "      <th>Asklepios Hospital Tiefenbrunn</th>\n",
       "      <td>2.161290</td>\n",
       "      <td>0.054000</td>\n",
       "      <td>25</td>\n",
       "      <td>0</td>\n",
       "    </tr>\n",
       "    <tr>\n",
       "      <th>Augenklinik Dr. Hoffmann</th>\n",
       "      <td>3.500000</td>\n",
       "      <td>0.394743</td>\n",
       "      <td>108</td>\n",
       "      <td>2</td>\n",
       "    </tr>\n",
       "    <tr>\n",
       "      <th>DIAKOVERE Annastift</th>\n",
       "      <td>3.468750</td>\n",
       "      <td>0.227656</td>\n",
       "      <td>98</td>\n",
       "      <td>2</td>\n",
       "    </tr>\n",
       "    <tr>\n",
       "      <th>DIAKOVERE Friederikenstift</th>\n",
       "      <td>1.876263</td>\n",
       "      <td>0.168211</td>\n",
       "      <td>264</td>\n",
       "      <td>1</td>\n",
       "    </tr>\n",
       "    <tr>\n",
       "      <th>DRK-Krankenhaus Clementinenhaus</th>\n",
       "      <td>3.824268</td>\n",
       "      <td>0.326441</td>\n",
       "      <td>178</td>\n",
       "      <td>2</td>\n",
       "    </tr>\n",
       "    <tr>\n",
       "      <th>Helios Klinikum Hildesheim</th>\n",
       "      <td>1.697080</td>\n",
       "      <td>0.149909</td>\n",
       "      <td>307</td>\n",
       "      <td>1</td>\n",
       "    </tr>\n",
       "    <tr>\n",
       "      <th>Herzogin Elisabeth Hospital</th>\n",
       "      <td>4.102662</td>\n",
       "      <td>0.311041</td>\n",
       "      <td>140</td>\n",
       "      <td>2</td>\n",
       "    </tr>\n",
       "    <tr>\n",
       "      <th>KRH Klinikum Großburgwedel</th>\n",
       "      <td>2.020134</td>\n",
       "      <td>0.194117</td>\n",
       "      <td>113</td>\n",
       "      <td>2</td>\n",
       "    </tr>\n",
       "    <tr>\n",
       "      <th>KRH Klinikum Lehrte</th>\n",
       "      <td>2.680000</td>\n",
       "      <td>0.164584</td>\n",
       "      <td>87</td>\n",
       "      <td>0</td>\n",
       "    </tr>\n",
       "    <tr>\n",
       "      <th>Krankenhaus Lindenbrunn</th>\n",
       "      <td>1.741667</td>\n",
       "      <td>0.112246</td>\n",
       "      <td>44</td>\n",
       "      <td>0</td>\n",
       "    </tr>\n",
       "    <tr>\n",
       "      <th>Krankenhaus Marienstift gGmbH</th>\n",
       "      <td>3.323944</td>\n",
       "      <td>0.181576</td>\n",
       "      <td>86</td>\n",
       "      <td>0</td>\n",
       "    </tr>\n",
       "    <tr>\n",
       "      <th>Sana Klinikum Hameln-Pyrmont</th>\n",
       "      <td>1.917431</td>\n",
       "      <td>0.080669</td>\n",
       "      <td>277</td>\n",
       "      <td>1</td>\n",
       "    </tr>\n",
       "    <tr>\n",
       "      <th>Sophienklinik GmbH</th>\n",
       "      <td>2.988636</td>\n",
       "      <td>0.288703</td>\n",
       "      <td>116</td>\n",
       "      <td>2</td>\n",
       "    </tr>\n",
       "  </tbody>\n",
       "</table>\n",
       "</div>"
      ],
      "text/plain": [
       "                                 Avg_Stern  Senti_Score  Zahl der Kommentaren  \\\n",
       "Name                                                                            \n",
       "AMEOS Hospital Alfeld             2.186441     0.178505                    70   \n",
       "Asklepios Hospital Göttingen      1.870813     0.041994                    57   \n",
       "Asklepios Hospital Tiefenbrunn    2.161290     0.054000                    25   \n",
       "Augenklinik Dr. Hoffmann          3.500000     0.394743                   108   \n",
       "DIAKOVERE Annastift               3.468750     0.227656                    98   \n",
       "DIAKOVERE Friederikenstift        1.876263     0.168211                   264   \n",
       "DRK-Krankenhaus Clementinenhaus   3.824268     0.326441                   178   \n",
       "Helios Klinikum Hildesheim        1.697080     0.149909                   307   \n",
       "Herzogin Elisabeth Hospital       4.102662     0.311041                   140   \n",
       "KRH Klinikum Großburgwedel        2.020134     0.194117                   113   \n",
       "KRH Klinikum Lehrte               2.680000     0.164584                    87   \n",
       "Krankenhaus Lindenbrunn           1.741667     0.112246                    44   \n",
       "Krankenhaus Marienstift gGmbH     3.323944     0.181576                    86   \n",
       "Sana Klinikum Hameln-Pyrmont      1.917431     0.080669                   277   \n",
       "Sophienklinik GmbH                2.988636     0.288703                   116   \n",
       "\n",
       "                                 Clusters  \n",
       "Name                                       \n",
       "AMEOS Hospital Alfeld                   0  \n",
       "Asklepios Hospital Göttingen            0  \n",
       "Asklepios Hospital Tiefenbrunn          0  \n",
       "Augenklinik Dr. Hoffmann                2  \n",
       "DIAKOVERE Annastift                     2  \n",
       "DIAKOVERE Friederikenstift              1  \n",
       "DRK-Krankenhaus Clementinenhaus         2  \n",
       "Helios Klinikum Hildesheim              1  \n",
       "Herzogin Elisabeth Hospital             2  \n",
       "KRH Klinikum Großburgwedel              2  \n",
       "KRH Klinikum Lehrte                     0  \n",
       "Krankenhaus Lindenbrunn                 0  \n",
       "Krankenhaus Marienstift gGmbH           0  \n",
       "Sana Klinikum Hameln-Pyrmont            1  \n",
       "Sophienklinik GmbH                      2  "
      ]
     },
     "execution_count": 75,
     "metadata": {},
     "output_type": "execute_result"
    }
   ],
   "source": [
    "cluster_df"
   ]
  },
  {
   "cell_type": "code",
   "execution_count": null,
   "metadata": {},
   "outputs": [],
   "source": []
  },
  {
   "cell_type": "code",
   "execution_count": null,
   "metadata": {},
   "outputs": [],
   "source": []
  },
  {
   "cell_type": "code",
   "execution_count": 66,
   "metadata": {},
   "outputs": [],
   "source": [
    "df_bewertungen = pd.read_csv('klinik_bewertungen.csv')"
   ]
  },
  {
   "cell_type": "code",
   "execution_count": 67,
   "metadata": {},
   "outputs": [
    {
     "data": {
      "text/html": [
       "<div>\n",
       "<style scoped>\n",
       "    .dataframe tbody tr th:only-of-type {\n",
       "        vertical-align: middle;\n",
       "    }\n",
       "\n",
       "    .dataframe tbody tr th {\n",
       "        vertical-align: top;\n",
       "    }\n",
       "\n",
       "    .dataframe thead th {\n",
       "        text-align: right;\n",
       "    }\n",
       "</style>\n",
       "<table border=\"1\" class=\"dataframe\">\n",
       "  <thead>\n",
       "    <tr style=\"text-align: right;\">\n",
       "      <th></th>\n",
       "      <th>Name</th>\n",
       "      <th>Department</th>\n",
       "      <th>Date</th>\n",
       "      <th>Title</th>\n",
       "      <th>Review</th>\n",
       "      <th>Rating</th>\n",
       "    </tr>\n",
       "  </thead>\n",
       "  <tbody>\n",
       "    <tr>\n",
       "      <th>0</th>\n",
       "      <td>Augenklinik - Dr. Hoffmann</td>\n",
       "      <td>Augen</td>\n",
       "      <td>16.03.2021</td>\n",
       "      <td>super Klinik</td>\n",
       "      <td>['Meine Laser OP grauer Star hat super geklapp...</td>\n",
       "      <td>['', '', 'Gesamtzufriedenheit:', 'sehr zufried...</td>\n",
       "    </tr>\n",
       "    <tr>\n",
       "      <th>1</th>\n",
       "      <td>Augenklinik - Dr. Hoffmann</td>\n",
       "      <td>Augen</td>\n",
       "      <td>20.01.2021</td>\n",
       "      <td>Ich war sehr zufrieden mit allem</td>\n",
       "      <td>['Bin sehr zufrieden gewesen mit der Klinik un...</td>\n",
       "      <td>['', '', 'Gesamtzufriedenheit:', 'sehr zufried...</td>\n",
       "    </tr>\n",
       "    <tr>\n",
       "      <th>2</th>\n",
       "      <td>Augenklinik - Dr. Hoffmann</td>\n",
       "      <td>Augen</td>\n",
       "      <td>16.11.2020</td>\n",
       "      <td>Endlich wieder klare Sicht</td>\n",
       "      <td>['Komptentes Ärzteteam.', 'Strickte Einhaltung...</td>\n",
       "      <td>['', '', 'Gesamtzufriedenheit:', 'sehr zufried...</td>\n",
       "    </tr>\n",
       "    <tr>\n",
       "      <th>3</th>\n",
       "      <td>Augenklinik - Dr. Hoffmann</td>\n",
       "      <td>Augen</td>\n",
       "      <td>22.03.2020</td>\n",
       "      <td>Beste Augenklinik</td>\n",
       "      <td>['Ich komme seit einen halben Jahr mit meiner ...</td>\n",
       "      <td>['', '', 'Gesamtzufriedenheit:', 'sehr zufried...</td>\n",
       "    </tr>\n",
       "    <tr>\n",
       "      <th>4</th>\n",
       "      <td>Augenklinik - Dr. Hoffmann</td>\n",
       "      <td>Augen</td>\n",
       "      <td>14.11.2019</td>\n",
       "      <td>ich war ringsherum zufrieden</td>\n",
       "      <td>['Ich war Anfang November 2019 zur Augen-OP (G...</td>\n",
       "      <td>['', '', 'Gesamtzufriedenheit:', 'sehr zufried...</td>\n",
       "    </tr>\n",
       "  </tbody>\n",
       "</table>\n",
       "</div>"
      ],
      "text/plain": [
       "                         Name Department        Date  \\\n",
       "0  Augenklinik - Dr. Hoffmann      Augen  16.03.2021   \n",
       "1  Augenklinik - Dr. Hoffmann      Augen  20.01.2021   \n",
       "2  Augenklinik - Dr. Hoffmann      Augen  16.11.2020   \n",
       "3  Augenklinik - Dr. Hoffmann      Augen  22.03.2020   \n",
       "4  Augenklinik - Dr. Hoffmann      Augen  14.11.2019   \n",
       "\n",
       "                              Title  \\\n",
       "0                      super Klinik   \n",
       "1  Ich war sehr zufrieden mit allem   \n",
       "2        Endlich wieder klare Sicht   \n",
       "3                 Beste Augenklinik   \n",
       "4      ich war ringsherum zufrieden   \n",
       "\n",
       "                                              Review  \\\n",
       "0  ['Meine Laser OP grauer Star hat super geklapp...   \n",
       "1  ['Bin sehr zufrieden gewesen mit der Klinik un...   \n",
       "2  ['Komptentes Ärzteteam.', 'Strickte Einhaltung...   \n",
       "3  ['Ich komme seit einen halben Jahr mit meiner ...   \n",
       "4  ['Ich war Anfang November 2019 zur Augen-OP (G...   \n",
       "\n",
       "                                              Rating  \n",
       "0  ['', '', 'Gesamtzufriedenheit:', 'sehr zufried...  \n",
       "1  ['', '', 'Gesamtzufriedenheit:', 'sehr zufried...  \n",
       "2  ['', '', 'Gesamtzufriedenheit:', 'sehr zufried...  \n",
       "3  ['', '', 'Gesamtzufriedenheit:', 'sehr zufried...  \n",
       "4  ['', '', 'Gesamtzufriedenheit:', 'sehr zufried...  "
      ]
     },
     "execution_count": 67,
     "metadata": {},
     "output_type": "execute_result"
    }
   ],
   "source": [
    "df_bewertungen.head()"
   ]
  },
  {
   "cell_type": "code",
   "execution_count": null,
   "metadata": {},
   "outputs": [],
   "source": [
    "df_bewertungen['Rating'][0]"
   ]
  },
  {
   "cell_type": "code",
   "execution_count": null,
   "metadata": {},
   "outputs": [],
   "source": [
    "# yorum aralarındaki /n ve tırnak gibi karakterleri temizle... "
   ]
  },
  {
   "cell_type": "code",
   "execution_count": null,
   "metadata": {},
   "outputs": [],
   "source": [
    "# bewertung ve maps csv den tek tablo oluştur"
   ]
  },
  {
   "cell_type": "code",
   "execution_count": null,
   "metadata": {},
   "outputs": [],
   "source": [
    "# data typeları düzenle"
   ]
  },
  {
   "cell_type": "code",
   "execution_count": null,
   "metadata": {},
   "outputs": [],
   "source": [
    "# comments ayır"
   ]
  },
  {
   "cell_type": "code",
   "execution_count": null,
   "metadata": {},
   "outputs": [],
   "source": [
    "# ML algorithm entscheiden um eine KlinifyScore zu herausfinden."
   ]
  },
  {
   "cell_type": "code",
   "execution_count": null,
   "metadata": {},
   "outputs": [],
   "source": [
    "# bewertung sterne int yap... "
   ]
  },
  {
   "cell_type": "code",
   "execution_count": null,
   "metadata": {},
   "outputs": [],
   "source": []
  },
  {
   "cell_type": "code",
   "execution_count": null,
   "metadata": {},
   "outputs": [],
   "source": []
  }
 ],
 "metadata": {
  "kernelspec": {
   "display_name": "Python 3",
   "language": "python",
   "name": "python3"
  },
  "language_info": {
   "codemirror_mode": {
    "name": "ipython",
    "version": 3
   },
   "file_extension": ".py",
   "mimetype": "text/x-python",
   "name": "python",
   "nbconvert_exporter": "python",
   "pygments_lexer": "ipython3",
   "version": "3.8.3"
  }
 },
 "nbformat": 4,
 "nbformat_minor": 4
}
