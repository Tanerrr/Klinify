{
 "cells": [
  {
   "cell_type": "code",
   "execution_count": 1,
   "metadata": {},
   "outputs": [],
   "source": [
    "import pandas as pd\n",
    "from selenium import webdriver\n",
    "from selenium.webdriver.support.ui import WebDriverWait\n",
    "from selenium.webdriver.support import expected_conditions as EC\n",
    "from selenium.webdriver.common.by import By\n",
    "from time import sleep"
   ]
  },
  {
   "cell_type": "code",
   "execution_count": 8,
   "metadata": {},
   "outputs": [],
   "source": [
    "df = pd.read_excel('Klinikliste.xlsx')"
   ]
  },
  {
   "cell_type": "code",
   "execution_count": 9,
   "metadata": {
    "scrolled": true
   },
   "outputs": [
    {
     "data": {
      "text/html": [
       "<div>\n",
       "<style scoped>\n",
       "    .dataframe tbody tr th:only-of-type {\n",
       "        vertical-align: middle;\n",
       "    }\n",
       "\n",
       "    .dataframe tbody tr th {\n",
       "        vertical-align: top;\n",
       "    }\n",
       "\n",
       "    .dataframe thead th {\n",
       "        text-align: right;\n",
       "    }\n",
       "</style>\n",
       "<table border=\"1\" class=\"dataframe\">\n",
       "  <thead>\n",
       "    <tr style=\"text-align: right;\">\n",
       "      <th></th>\n",
       "      <th>Klinikname</th>\n",
       "      <th>Link Google Maps</th>\n",
       "      <th>Link Klinikbewertungen</th>\n",
       "    </tr>\n",
       "  </thead>\n",
       "  <tbody>\n",
       "    <tr>\n",
       "      <th>0</th>\n",
       "      <td>Augenklinik Dr.Hoffmann</td>\n",
       "      <td>https://www.google.com/maps/place/Augenklinik+...</td>\n",
       "      <td>https://www.klinikbewertungen.de/klinik-forum/...</td>\n",
       "    </tr>\n",
       "    <tr>\n",
       "      <th>1</th>\n",
       "      <td>Krankenhaus Marienstift Braunschweig</td>\n",
       "      <td>https://www.google.com/maps/place/Krankenhaus+...</td>\n",
       "      <td>https://www.klinikbewertungen.de/klinik-forum/...</td>\n",
       "    </tr>\n",
       "    <tr>\n",
       "      <th>2</th>\n",
       "      <td>Herzogin Elisabeth Hospital Braunschweig</td>\n",
       "      <td>https://www.google.com/maps/place/Herzogin+Eli...</td>\n",
       "      <td>https://www.klinikbewertungen.de/klinik-forum/...</td>\n",
       "    </tr>\n",
       "    <tr>\n",
       "      <th>3</th>\n",
       "      <td>Asklepios Fachklinikum Göttingen</td>\n",
       "      <td>https://www.google.com/maps/place/Asklepios+Fa...</td>\n",
       "      <td>https://www.klinikbewertungen.de/klinik-forum/...</td>\n",
       "    </tr>\n",
       "    <tr>\n",
       "      <th>4</th>\n",
       "      <td>Asklepios Fachklinikum Tiefenbrunn</td>\n",
       "      <td>https://www.google.com/maps/place/Asklepios+Fa...</td>\n",
       "      <td>https://www.klinikbewertungen.de/klinik-forum/...</td>\n",
       "    </tr>\n",
       "  </tbody>\n",
       "</table>\n",
       "</div>"
      ],
      "text/plain": [
       "                                 Klinikname  \\\n",
       "0                   Augenklinik Dr.Hoffmann   \n",
       "1      Krankenhaus Marienstift Braunschweig   \n",
       "2  Herzogin Elisabeth Hospital Braunschweig   \n",
       "3          Asklepios Fachklinikum Göttingen   \n",
       "4        Asklepios Fachklinikum Tiefenbrunn   \n",
       "\n",
       "                                    Link Google Maps  \\\n",
       "0  https://www.google.com/maps/place/Augenklinik+...   \n",
       "1  https://www.google.com/maps/place/Krankenhaus+...   \n",
       "2  https://www.google.com/maps/place/Herzogin+Eli...   \n",
       "3  https://www.google.com/maps/place/Asklepios+Fa...   \n",
       "4  https://www.google.com/maps/place/Asklepios+Fa...   \n",
       "\n",
       "                              Link Klinikbewertungen  \n",
       "0  https://www.klinikbewertungen.de/klinik-forum/...  \n",
       "1  https://www.klinikbewertungen.de/klinik-forum/...  \n",
       "2  https://www.klinikbewertungen.de/klinik-forum/...  \n",
       "3  https://www.klinikbewertungen.de/klinik-forum/...  \n",
       "4  https://www.klinikbewertungen.de/klinik-forum/...  "
      ]
     },
     "execution_count": 9,
     "metadata": {},
     "output_type": "execute_result"
    }
   ],
   "source": [
    "df.head()"
   ]
  },
  {
   "cell_type": "code",
   "execution_count": 10,
   "metadata": {},
   "outputs": [
    {
     "name": "stdout",
     "output_type": "stream",
     "text": [
      "24\n"
     ]
    }
   ],
   "source": [
    " print(len(df['Link Google Maps']))"
   ]
  },
  {
   "cell_type": "code",
   "execution_count": 11,
   "metadata": {},
   "outputs": [
    {
     "data": {
      "text/plain": [
       "'https://www.google.com/maps/place/Heidekreis-Klinikum+GmbH+Krankenhaus+Soltau/@52.9894409,9.847291,15z/data=!3m1!4b1!4m8!1m2!11m1!2s1tsS4C8icZfBtXgqho9ekuv3aB34!3m4!1s0x47b1b'"
      ]
     },
     "execution_count": 11,
     "metadata": {},
     "output_type": "execute_result"
    }
   ],
   "source": [
    "df['Link Google Maps'][23]"
   ]
  },
  {
   "cell_type": "code",
   "execution_count": 12,
   "metadata": {},
   "outputs": [
    {
     "name": "stdout",
     "output_type": "stream",
     "text": [
      "https://www.google.com/maps/place/Augenklinik+Dr.+Hoffmann/@52.2555789,10.5275976,15z/data=!4m2!3m1!1s0x0:0xe66ee9e189648187?sa=X&ved=2ahUKEwiUrOzD5_DuAhVLDOwKHUVOACkQ_BIwDHoECBgQBQ\n",
      "https://www.google.com/maps/place/Krankenhaus+Marienstift+gGmbH/@52.2584042,10.5452332,15z/data=!4m2!3m1!1s0x0:0x2f02bc5a88d3c4a4?sa=X&ved=2ahUKEwiaitH85_DuAhXEwQIHHblHCPkQ_BIwCnoECBUQBQ\n",
      "https://www.google.com/maps/place/Herzogin+Elisabeth+Hospital/@52.2329937,10.5267147,15z/data=!4m2!3m1!1s0x0:0x66131345a9ba3dfe?sa=X&ved=2ahUKEwjDndeY6PDuAhUOwKQKHQttAAkQ_BIwDXoECBoQBQ\n",
      "https://www.google.com/maps/place/Asklepios+Fachklinikum+G%C3%B6ttingen/@51.5241467,9.916557,15z/data=!4m5!3m4!1s0x0:0xa2869d54b7ca1a8a!8m2!3d51.5241467!4d9.916557\n",
      "https://www.google.com/maps/place/Asklepios+Fachklinikum+Tiefenbrunn/@51.498851,9.8716437,15z/data=!4m2!3m1!1s0x0:0xd7525199e92be7b?sa=X&ved=2ahUKEwiLwKW37PDuAhVCC-wKHb2GAFwQ_BIwDXoECBcQBQ\n",
      "https://www.google.com/maps/place/DIAKOVERE+Friederikenstift/@52.3712581,9.7241985,15z/data=!4m2!3m1!1s0x0:0x2562020c6992a2f5?sa=X&ved=2ahUKEwjz4Mm_7PDuAhUJOuwKHfjwDoYQ_BIwDXoECBkQBQ\n",
      "https://www.google.com/maps/place/DIAKOVERE+Annastift/@52.3697126,9.8095478,15z/data=!4m2!3m1!1s0x0:0xcda40e96bf4ee3b5?sa=X&ved=2ahUKEwju-snN7PDuAhUH3KQKHTmUADsQ_BIwCnoECB0QBQ\n",
      "https://www.google.com/maps/place/DRK-Krankenhaus+Clementinenhaus/@52.3867053,9.7451748,15z/data=!4m2!3m1!1s0x0:0xc26fce799779eb2a?sa=X&ved=2ahUKEwi5nJDV7PDuAhUEwQIHHSapBl4Q_BIwCnoECBcQBQ\n",
      "https://www.google.com/maps/place/Sophienklinik+GmbH/@52.3622984,9.7773725,15z/data=!4m2!3m1!1s0x0:0xa5f9e423a2b06584?sa=X&ved=2ahUKEwiDzZqV7fDuAhWKtqQKHdBRAK4Q_BIwDXoECBkQBQ\n",
      "https://www.google.com/maps/place/KRH+Klinikum+Gro%C3%9Fburgwedel/@52.49634,9.86174,15z/data=!4m2!3m1!1s0x0:0x6097ffe5c867564f?sa=X&ved=2ahUKEwiX7YOl7fDuAhXEDOwKHXe_Ax4Q_BIwFnoECCEQBQ\n",
      "https://www.google.com/maps/place/KRH+Klinikum+Lehrte/@52.37997,9.9836,15z/data=!4m2!3m1!1s0x0:0xcdad104f265200f7?sa=X&ved=2ahUKEwjPteLO7fDuAhWOzaQKHaAUCiMQ_BIwDnoECBYQBQ\n",
      "https://www.google.com/maps/place/Krankenhaus+Lindenbrunn/@52.1096994,9.5498324,15z/data=!4m2!3m1!1s0x0:0x2ba194a9d9fbed1d?sa=X&ved=2ahUKEwiqp6iV7_DuAhWN16QKHRgrBg0Q_BIwDXoECBYQBQ\n",
      "https://www.google.com/maps/place/Sana+Klinikum+Hameln-Pyrmont/@52.1072071,9.3519386,15z/data=!4m2!3m1!1s0x0:0x38c5edd92206a8ed?sa=X&ved=2ahUKEwigqvKp7_DuAhXVOuwKHcvCCogQ_BIwDXoECBoQBQ\n",
      "https://www.google.com/maps/place/AMEOS+Klinikum+Alfeld/@51.9942339,9.8324207,15z/data=!4m2!3m1!1s0x0:0xae524284e15399f3?sa=X&ved=2ahUKEwiI24i57_DuAhXGuaQKHcSQAesQ_BIwDHoECBkQBQ\n",
      "https://www.google.com/maps/place/Helios+Klinikum+Hildesheim/@52.15131,9.9766266,15z/data=!4m2!3m1!1s0x0:0x6f9974ba52e7ae71?sa=X&ved=2ahUKEwick53v7_DuAhWPG-wKHeLfAwkQ_BIwDXoECBcQBQ\n",
      "https://www.google.com/maps/place/AGAPLESION+EV.+KLINIKUM+SCHAUMBURG+gGmbH/@52.2648061,9.1052392,15z/data=!4m2!3m1!1s0x0:0xbb35614cf4b2be1?sa=X&ved=2ahUKEwiV0oq18PDuAhWPO-wKHca5CmoQ_BIwCnoECBcQBQ\n",
      "https://www.google.com/maps/place/HELIOS+Klinik+Cuxhaven/@53.8528608,8.6921898,15z/data=!4m2!3m1!1s0x0:0x3a2fe1f38b90ded1?sa=X&ved=2ahUKEwjA0ofu8PDuAhVCPuwKHV3mAX0Q_BIwCnoECBkQBQ\n",
      "https://www.google.com/maps/place/OsteMed+Klinik+Bremerv%C3%B6rde/@53.47135,9.13539,15z/data=!4m2!3m1!1s0x0:0x9e67a0479524aff6?sa=X&ved=2ahUKEwjbvs7z8fDuAhXaOewKHb8_C-cQ_BIwDXoECBgQBQ\n",
      "https://www.google.com/maps/place/Klinik+Fallingbostel/@52.86903,9.7059601,15z/data=!4m2!3m1!1s0x0:0xdc98c5fc80626f15?sa=X&ved=2ahUKEwiYmdaV8vDuAhWCHewKHabKBksQ_BIwE3oECB8QBQ\n",
      "https://www.google.com/maps/place/Klinikum+Emden+-+Hans-Susemihl-Krankenhaus/@53.3754445,7.2129241,15z/data=!4m2!3m1!1s0x0:0x5db7edd86596419e?sa=X&ved=2ahUKEwiDpfyV9PDuAhWCjaQKHWgBCcwQ_BIwD3oECCMQBQ\n",
      "https://www.google.com/maps/place/Krankenhaus+Ludmillenstift/@52.688896,7.2928619,15z/data=!4m2!3m1!1s0x0:0x59c2048e1a4953f?sa=X&ved=2ahUKEwigpYag9vDuAhWxwAIHHXwPDugQ_BIwDXoECBYQBQ\n",
      "https://www.google.com/maps/place/Marienkrankenhaus+Papenburg-+Aschendorf+GmbH+Betriebsst%C3%A4tte+Aschendorf/@53.05092,7.3292999,15z/data=!4m5!3m4!1s0x0:0x20891ebe2b01a054!8m2!3d53.05092!4d7.3292999\n",
      "https://www.google.com/maps/place/Kreiskrankenhaus+Osterholz/@53.2337217,8.7942051,15z/data=!4m2!3m1!1s0x0:0xee4b35384cb3b2ad?sa=X&ved=2ahUKEwjYrbHu8fDuAhVRyaQKHSREAa0Q_BIwDXoECBYQBQ\n",
      "https://www.google.com/maps/place/Heidekreis-Klinikum+GmbH+Krankenhaus+Soltau/@52.9894409,9.847291,15z/data=!3m1!4b1!4m8!1m2!11m1!2s1tsS4C8icZfBtXgqho9ekuv3aB34!3m4!1s0x47b1b\n"
     ]
    }
   ],
   "source": [
    "for link in df['Link Google Maps']:\n",
    "    print(link)"
   ]
  },
  {
   "cell_type": "code",
   "execution_count": null,
   "metadata": {},
   "outputs": [],
   "source": []
  }
 ],
 "metadata": {
  "kernelspec": {
   "display_name": "Python 3",
   "language": "python",
   "name": "python3"
  },
  "language_info": {
   "codemirror_mode": {
    "name": "ipython",
    "version": 3
   },
   "file_extension": ".py",
   "mimetype": "text/x-python",
   "name": "python",
   "nbconvert_exporter": "python",
   "pygments_lexer": "ipython3",
   "version": "3.8.3"
  }
 },
 "nbformat": 4,
 "nbformat_minor": 4
}
