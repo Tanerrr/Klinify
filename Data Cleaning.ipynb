{
 "cells": [
  {
   "cell_type": "code",
   "execution_count": 27,
   "metadata": {},
   "outputs": [],
   "source": [
    "import pandas as pd\n",
    "import glob"
   ]
  },
  {
   "cell_type": "code",
   "execution_count": 28,
   "metadata": {},
   "outputs": [],
   "source": [
    "filelist = glob.glob(\"csvs/*.csv\")"
   ]
  },
  {
   "cell_type": "code",
   "execution_count": 50,
   "metadata": {},
   "outputs": [
    {
     "name": "stdout",
     "output_type": "stream",
     "text": [
      "------------------------------------------------------------------------------------------\n",
      "Name                                     Kommentare Bekommen     Kommentare Zahl\n",
      "------------------------------------------------------------------------------------------\n",
      "csvs/KRH Klinikum Lehrte.csv                    87                       87\n",
      "csvs/Sophienklinik GmbH.csv                    116                      116\n",
      "csvs/Krankenhaus Lindenbrunn.csv                44                       44\n",
      "csvs/Asklepios Hospital Göttingen.csv           56                       57\n",
      "csvs/Augenklinik Dr. Hoffmann.csv              107                      107\n",
      "csvs/Helios Klinikum Hildesheim.csv            305                      307\n",
      "csvs/Asklepios Hospital Tiefenbrunn.csv         25                       25\n",
      "csvs/Krankenhaus Marienstift gGmbH.csv          86                       86\n",
      "csvs/DIAKOVERE Friederikenstift.csv            263                      263\n",
      "csvs/DIAKOVERE Annastift.csv                    98                       98\n",
      "csvs/AMEOS Hospital Alfeld.csv                  70                       70\n",
      "csvs/Sana Klinikum Hameln-Pyrmont.csv          274                      276\n",
      "csvs/DRK-Krankenhaus Clementinenhaus.csv       178                      178\n",
      "csvs/Herzogin Elisabeth Hospital.csv           139                      139\n"
     ]
    }
   ],
   "source": [
    "dash = '-' * 90\n",
    "\n",
    "for i in range(len(filelist)):\n",
    "    if i == 0:\n",
    "      print(dash)\n",
    "      print('{:<40s}{:>20s}{:>20s}'.format('Name','Kommentare Bekommen','Kommentare Zahl'))\n",
    "      print(dash)\n",
    "    else:\n",
    "      df = pd.read_csv(filelist[i-1])\n",
    "      print('{:<40s}{:>10d}{:>25d}'.format(filelist[i-1], len(df['Kommentare']), df['Zahl der Kommentaren'][0]))"
   ]
  },
  {
   "cell_type": "code",
   "execution_count": null,
   "metadata": {},
   "outputs": [],
   "source": []
  }
 ],
 "metadata": {
  "kernelspec": {
   "display_name": "Python 3",
   "language": "python",
   "name": "python3"
  },
  "language_info": {
   "codemirror_mode": {
    "name": "ipython",
    "version": 3
   },
   "file_extension": ".py",
   "mimetype": "text/x-python",
   "name": "python",
   "nbconvert_exporter": "python",
   "pygments_lexer": "ipython3",
   "version": "3.8.3"
  }
 },
 "nbformat": 4,
 "nbformat_minor": 4
}
