{
 "cells": [
  {
   "cell_type": "code",
   "execution_count": 1,
   "metadata": {},
   "outputs": [],
   "source": [
    "import pandas as pd\n",
    "import glob\n",
    "import re\n",
    "import string"
   ]
  },
  {
   "cell_type": "code",
   "execution_count": 2,
   "metadata": {},
   "outputs": [],
   "source": [
    "filelist = glob.glob(\"csvs/*.csv\")"
   ]
  },
  {
   "cell_type": "code",
   "execution_count": 3,
   "metadata": {},
   "outputs": [
    {
     "name": "stdout",
     "output_type": "stream",
     "text": [
      "------------------------------------------------------------------------------------------\n",
      "Name                                     Kommentare Bekommen     Kommentare Zahl\n",
      "------------------------------------------------------------------------------------------\n",
      "csvs/KRH Klinikum Lehrte.csv                    87                       87\n",
      "csvs/Sophienklinik GmbH.csv                    116                      116\n",
      "csvs/Krankenhaus Lindenbrunn.csv                44                       44\n",
      "csvs/Asklepios Hospital Göttingen.csv           56                       57\n",
      "csvs/Augenklinik Dr. Hoffmann.csv              108                      108\n",
      "csvs/Helios Klinikum Hildesheim.csv            305                      307\n",
      "csvs/Asklepios Hospital Tiefenbrunn.csv         25                       25\n",
      "csvs/Krankenhaus Marienstift gGmbH.csv          86                       86\n",
      "csvs/DIAKOVERE Friederikenstift.csv            264                      264\n",
      "csvs/DIAKOVERE Annastift.csv                    98                       98\n",
      "csvs/AMEOS Hospital Alfeld.csv                  70                       70\n",
      "csvs/Sana Klinikum Hameln-Pyrmont.csv          275                      277\n",
      "csvs/DRK-Krankenhaus Clementinenhaus.csv       178                      178\n",
      "csvs/Herzogin Elisabeth Hospital.csv           140                      140\n"
     ]
    }
   ],
   "source": [
    "dash = '-' * 90\n",
    "\n",
    "for i in range(len(filelist)):\n",
    "    if i == 0:\n",
    "      print(dash)\n",
    "      print('{:<40s}{:>20s}{:>20s}'.format('Name','Kommentare Bekommen','Kommentare Zahl'))\n",
    "      print(dash)\n",
    "    else:\n",
    "      df = pd.read_csv(filelist[i-1])\n",
    "      print('{:<40s}{:>10d}{:>25d}'.format(filelist[i-1], len(df['Kommentare']), df['Zahl der Kommentaren'][0]))"
   ]
  },
  {
   "cell_type": "markdown",
   "metadata": {},
   "source": [
    "#### Google Maps CSV's kombinieren"
   ]
  },
  {
   "cell_type": "code",
   "execution_count": 4,
   "metadata": {},
   "outputs": [],
   "source": [
    "def kombineCSVs(filenames):\n",
    "    df = pd.concat([pd.read_csv(file, encoding='utf-8') for file in filenames])\n",
    "    return df"
   ]
  },
  {
   "cell_type": "code",
   "execution_count": 5,
   "metadata": {},
   "outputs": [],
   "source": [
    "maps_df = kombineCSVs([name for name in filelist])"
   ]
  },
  {
   "cell_type": "code",
   "execution_count": 6,
   "metadata": {
    "scrolled": true
   },
   "outputs": [
    {
     "data": {
      "text/html": [
       "<div>\n",
       "<style scoped>\n",
       "    .dataframe tbody tr th:only-of-type {\n",
       "        vertical-align: middle;\n",
       "    }\n",
       "\n",
       "    .dataframe tbody tr th {\n",
       "        vertical-align: top;\n",
       "    }\n",
       "\n",
       "    .dataframe thead th {\n",
       "        text-align: right;\n",
       "    }\n",
       "</style>\n",
       "<table border=\"1\" class=\"dataframe\">\n",
       "  <thead>\n",
       "    <tr style=\"text-align: right;\">\n",
       "      <th></th>\n",
       "      <th>Name</th>\n",
       "      <th>AVG - Sterne</th>\n",
       "      <th>Zahl der Kommentaren</th>\n",
       "      <th>Adresse</th>\n",
       "      <th>Sterne</th>\n",
       "      <th>Kommentare</th>\n",
       "      <th>Datum</th>\n",
       "      <th>Likes</th>\n",
       "    </tr>\n",
       "  </thead>\n",
       "  <tbody>\n",
       "    <tr>\n",
       "      <th>0</th>\n",
       "      <td>KRH Klinikum Lehrte</td>\n",
       "      <td>3.3</td>\n",
       "      <td>87</td>\n",
       "      <td>Manskestraße 22, 31275 Lehrte</td>\n",
       "      <td>4</td>\n",
       "      <td>(Translated by Google) My father was admitted ...</td>\n",
       "      <td>a month ago</td>\n",
       "      <td>0</td>\n",
       "    </tr>\n",
       "    <tr>\n",
       "      <th>1</th>\n",
       "      <td>KRH Klinikum Lehrte</td>\n",
       "      <td>3.3</td>\n",
       "      <td>87</td>\n",
       "      <td>Manskestraße 22, 31275 Lehrte</td>\n",
       "      <td>5</td>\n",
       "      <td>(Translated by Google) Station 4 is great. I c...</td>\n",
       "      <td>a year ago</td>\n",
       "      <td>2</td>\n",
       "    </tr>\n",
       "    <tr>\n",
       "      <th>2</th>\n",
       "      <td>KRH Klinikum Lehrte</td>\n",
       "      <td>3.3</td>\n",
       "      <td>87</td>\n",
       "      <td>Manskestraße 22, 31275 Lehrte</td>\n",
       "      <td>5</td>\n",
       "      <td>(Translated by Google) Everyone was super nice...</td>\n",
       "      <td>a month ago</td>\n",
       "      <td>0</td>\n",
       "    </tr>\n",
       "  </tbody>\n",
       "</table>\n",
       "</div>"
      ],
      "text/plain": [
       "                  Name  AVG - Sterne  Zahl der Kommentaren  \\\n",
       "0  KRH Klinikum Lehrte           3.3                    87   \n",
       "1  KRH Klinikum Lehrte           3.3                    87   \n",
       "2  KRH Klinikum Lehrte           3.3                    87   \n",
       "\n",
       "                         Adresse  Sterne  \\\n",
       "0  Manskestraße 22, 31275 Lehrte       4   \n",
       "1  Manskestraße 22, 31275 Lehrte       5   \n",
       "2  Manskestraße 22, 31275 Lehrte       5   \n",
       "\n",
       "                                          Kommentare        Datum  Likes  \n",
       "0  (Translated by Google) My father was admitted ...  a month ago      0  \n",
       "1  (Translated by Google) Station 4 is great. I c...   a year ago      2  \n",
       "2  (Translated by Google) Everyone was super nice...  a month ago      0  "
      ]
     },
     "execution_count": 6,
     "metadata": {},
     "output_type": "execute_result"
    }
   ],
   "source": [
    "maps_df.head(3)"
   ]
  },
  {
   "cell_type": "code",
   "execution_count": 7,
   "metadata": {},
   "outputs": [],
   "source": [
    "maps_df.reset_index(drop=True, inplace=True)"
   ]
  },
  {
   "cell_type": "code",
   "execution_count": 8,
   "metadata": {
    "scrolled": true
   },
   "outputs": [
    {
     "data": {
      "text/plain": [
       "\"(Translated by Google) My father was admitted to the intensive care unit in this hospital. The staff did everything to save him. Thanks alot! You are angels on earth.\\nOne star, because the communication wasn't so good and some of the sisters were really unfriendly.\\n\\n(Original)\\nMein Vater ist in diesem KH in die Intensivstation eingeliefert worden. Das Personal hat alles getan um.ihn zu retten. Vielen vielen Dank! Ihr seid Engel auf Erden.\\nEinen Stern Abzug, weil die Kommunikation nicht so gut war und manche Schwestern echt unfreundlich waren.\""
      ]
     },
     "execution_count": 8,
     "metadata": {},
     "output_type": "execute_result"
    }
   ],
   "source": [
    "strin = maps_df['Kommentare'][0]\n",
    "strin"
   ]
  },
  {
   "cell_type": "markdown",
   "metadata": {},
   "source": [
    "#### Bearbeiten von Kommentaren, um gute Ergebnisse aus der Sentimentalyse zu erhalten"
   ]
  },
  {
   "cell_type": "markdown",
   "metadata": {},
   "source": [
    "##### Unterscheidung zwischen englischen und deutschen Kommentaren"
   ]
  },
  {
   "cell_type": "code",
   "execution_count": 9,
   "metadata": {},
   "outputs": [],
   "source": [
    "def split_it(df, column):\n",
    "    english = []\n",
    "    deutsch = []\n",
    "    komment_list = []\n",
    "    df['Regex'] =  [re.split(r\"\\(Translated by Google\\)\", str(x)) for x in df[column]]\n",
    "    for kommentar in df['Regex']:\n",
    "        try:\n",
    "            komment = kommentar[1]\n",
    "            komment_list.append(komment)\n",
    "        except:\n",
    "            komment = 'No Comment'\n",
    "            komment_list.append(komment)\n",
    "\n",
    "    df['Regex'] =  komment_list\n",
    "    \n",
    "    df['Regex'] =  [re.split(r\"\\(Original\\)\", str(x)) for x in df['Regex']]\n",
    "    \n",
    "    for sprache in df['Regex']:\n",
    "        try:\n",
    "            eng = sprache[0]\n",
    "            de = sprache[1]\n",
    "            english.append(eng)\n",
    "            deutsch.append(de)\n",
    "        except:\n",
    "            komment = 'No Comment'\n",
    "            english.append(komment)\n",
    "            deutsch.append(komment)\n",
    "    df.drop('Regex', axis=1, inplace= True)\n",
    "    df['Englisch'] =  english\n",
    "    df['Deutsch'] =  deutsch \n",
    "    \n",
    "    return df['Englisch'], df['Deutsch']"
   ]
  },
  {
   "cell_type": "code",
   "execution_count": 10,
   "metadata": {},
   "outputs": [],
   "source": [
    "maps_df['Englisch'], maps_df['Deutsch'] = split_it(df, 'Kommentare')"
   ]
  },
  {
   "cell_type": "code",
   "execution_count": 11,
   "metadata": {},
   "outputs": [],
   "source": [
    "google_maps = maps_df.drop('Kommentare', axis=1)"
   ]
  },
  {
   "cell_type": "code",
   "execution_count": 12,
   "metadata": {
    "scrolled": true
   },
   "outputs": [
    {
     "data": {
      "text/html": [
       "<div>\n",
       "<style scoped>\n",
       "    .dataframe tbody tr th:only-of-type {\n",
       "        vertical-align: middle;\n",
       "    }\n",
       "\n",
       "    .dataframe tbody tr th {\n",
       "        vertical-align: top;\n",
       "    }\n",
       "\n",
       "    .dataframe thead th {\n",
       "        text-align: right;\n",
       "    }\n",
       "</style>\n",
       "<table border=\"1\" class=\"dataframe\">\n",
       "  <thead>\n",
       "    <tr style=\"text-align: right;\">\n",
       "      <th></th>\n",
       "      <th>Name</th>\n",
       "      <th>AVG - Sterne</th>\n",
       "      <th>Zahl der Kommentaren</th>\n",
       "      <th>Adresse</th>\n",
       "      <th>Sterne</th>\n",
       "      <th>Datum</th>\n",
       "      <th>Likes</th>\n",
       "      <th>Englisch</th>\n",
       "      <th>Deutsch</th>\n",
       "    </tr>\n",
       "  </thead>\n",
       "  <tbody>\n",
       "    <tr>\n",
       "      <th>0</th>\n",
       "      <td>KRH Klinikum Lehrte</td>\n",
       "      <td>3.3</td>\n",
       "      <td>87</td>\n",
       "      <td>Manskestraße 22, 31275 Lehrte</td>\n",
       "      <td>4</td>\n",
       "      <td>a month ago</td>\n",
       "      <td>0</td>\n",
       "      <td>No Comment</td>\n",
       "      <td>No Comment</td>\n",
       "    </tr>\n",
       "    <tr>\n",
       "      <th>1</th>\n",
       "      <td>KRH Klinikum Lehrte</td>\n",
       "      <td>3.3</td>\n",
       "      <td>87</td>\n",
       "      <td>Manskestraße 22, 31275 Lehrte</td>\n",
       "      <td>5</td>\n",
       "      <td>a year ago</td>\n",
       "      <td>2</td>\n",
       "      <td>Great hospital, but I'd rather be healthy. Wa...</td>\n",
       "      <td>\\nTolles Krankenhaus,  trotzdem bin ich lieber...</td>\n",
       "    </tr>\n",
       "  </tbody>\n",
       "</table>\n",
       "</div>"
      ],
      "text/plain": [
       "                  Name  AVG - Sterne  Zahl der Kommentaren  \\\n",
       "0  KRH Klinikum Lehrte           3.3                    87   \n",
       "1  KRH Klinikum Lehrte           3.3                    87   \n",
       "\n",
       "                         Adresse  Sterne        Datum  Likes  \\\n",
       "0  Manskestraße 22, 31275 Lehrte       4  a month ago      0   \n",
       "1  Manskestraße 22, 31275 Lehrte       5   a year ago      2   \n",
       "\n",
       "                                            Englisch  \\\n",
       "0                                         No Comment   \n",
       "1   Great hospital, but I'd rather be healthy. Wa...   \n",
       "\n",
       "                                             Deutsch  \n",
       "0                                         No Comment  \n",
       "1  \\nTolles Krankenhaus,  trotzdem bin ich lieber...  "
      ]
     },
     "execution_count": 12,
     "metadata": {},
     "output_type": "execute_result"
    }
   ],
   "source": [
    "google_maps.head(2)"
   ]
  },
  {
   "cell_type": "markdown",
   "metadata": {},
   "source": [
    "##### Entfernen unerwünschter Zeichen aus Kommentaren"
   ]
  },
  {
   "cell_type": "code",
   "execution_count": 13,
   "metadata": {},
   "outputs": [],
   "source": [
    "google_maps['Englisch'].replace(r'\\s+|\\\\n', ' ', regex=True, inplace=True) \n",
    "google_maps['Deutsch'].replace(r'\\s+|\\\\n', ' ', regex=True, inplace=True) "
   ]
  },
  {
   "cell_type": "code",
   "execution_count": 14,
   "metadata": {},
   "outputs": [
    {
     "data": {
      "text/plain": [
       "'No Comment'"
      ]
     },
     "execution_count": 14,
     "metadata": {},
     "output_type": "execute_result"
    }
   ],
   "source": [
    "google_maps['Deutsch'][0]"
   ]
  },
  {
   "cell_type": "code",
   "execution_count": 15,
   "metadata": {},
   "outputs": [
    {
     "data": {
      "text/plain": [
       "Senator-Braun-Allee 33, 31135 Hildesheim              305\n",
       "Saint-Maur-Platz 1, 31785 Hameln                      275\n",
       "Humboldtstraße 5, 30169 Hannover                      264\n",
       "Lützerodestraße 1, 30161 Hannover                     178\n",
       "Leipziger Str. 24, 38124 Braunschweig                 140\n",
       "Bischofsholer Damm 160, 30173 Hannover                116\n",
       "Fuhrberger Str. 8, 30938 Burgwedel                    113\n",
       "Wolfenbütteler Str. 82, 38102 Braunschweig            108\n",
       "Anna-von-Borries-Straße 1-7, 30625 Hannover            98\n",
       "Manskestraße 22, 31275 Lehrte                          87\n",
       "Helmstedter Str. 35, 38102 Braunschweig                86\n",
       "Landrat-Beushausen-Straße 26, 31061 Alfeld (Leine)     70\n",
       "Rosdorfer Weg 70, 37081 Göttingen                      56\n",
       "Am Lindenbrunn 1, 31863 Coppenbrügge                   44\n",
       "Tiefenbrunn, 37124 Rosdorf                             25\n",
       "Name: Adresse, dtype: int64"
      ]
     },
     "execution_count": 15,
     "metadata": {},
     "output_type": "execute_result"
    }
   ],
   "source": [
    "google_maps['Adresse'].value_counts()"
   ]
  },
  {
   "cell_type": "code",
   "execution_count": 16,
   "metadata": {
    "scrolled": true
   },
   "outputs": [
    {
     "data": {
      "text/html": [
       "<div>\n",
       "<style scoped>\n",
       "    .dataframe tbody tr th:only-of-type {\n",
       "        vertical-align: middle;\n",
       "    }\n",
       "\n",
       "    .dataframe tbody tr th {\n",
       "        vertical-align: top;\n",
       "    }\n",
       "\n",
       "    .dataframe thead th {\n",
       "        text-align: right;\n",
       "    }\n",
       "</style>\n",
       "<table border=\"1\" class=\"dataframe\">\n",
       "  <thead>\n",
       "    <tr style=\"text-align: right;\">\n",
       "      <th></th>\n",
       "      <th>Name</th>\n",
       "      <th>AVG - Sterne</th>\n",
       "      <th>Zahl der Kommentaren</th>\n",
       "      <th>Adresse</th>\n",
       "      <th>Sterne</th>\n",
       "      <th>Datum</th>\n",
       "      <th>Likes</th>\n",
       "      <th>Englisch</th>\n",
       "      <th>Deutsch</th>\n",
       "    </tr>\n",
       "  </thead>\n",
       "  <tbody>\n",
       "    <tr>\n",
       "      <th>0</th>\n",
       "      <td>KRH Klinikum Lehrte</td>\n",
       "      <td>3.3</td>\n",
       "      <td>87</td>\n",
       "      <td>Manskestraße 22, 31275 Lehrte</td>\n",
       "      <td>4</td>\n",
       "      <td>a month ago</td>\n",
       "      <td>0</td>\n",
       "      <td>No Comment</td>\n",
       "      <td>No Comment</td>\n",
       "    </tr>\n",
       "    <tr>\n",
       "      <th>1</th>\n",
       "      <td>KRH Klinikum Lehrte</td>\n",
       "      <td>3.3</td>\n",
       "      <td>87</td>\n",
       "      <td>Manskestraße 22, 31275 Lehrte</td>\n",
       "      <td>5</td>\n",
       "      <td>a year ago</td>\n",
       "      <td>2</td>\n",
       "      <td>Great hospital, but I'd rather be healthy. Wa...</td>\n",
       "      <td>Tolles Krankenhaus, trotzdem bin ich lieber g...</td>\n",
       "    </tr>\n",
       "  </tbody>\n",
       "</table>\n",
       "</div>"
      ],
      "text/plain": [
       "                  Name  AVG - Sterne  Zahl der Kommentaren  \\\n",
       "0  KRH Klinikum Lehrte           3.3                    87   \n",
       "1  KRH Klinikum Lehrte           3.3                    87   \n",
       "\n",
       "                         Adresse  Sterne        Datum  Likes  \\\n",
       "0  Manskestraße 22, 31275 Lehrte       4  a month ago      0   \n",
       "1  Manskestraße 22, 31275 Lehrte       5   a year ago      2   \n",
       "\n",
       "                                            Englisch  \\\n",
       "0                                         No Comment   \n",
       "1   Great hospital, but I'd rather be healthy. Wa...   \n",
       "\n",
       "                                             Deutsch  \n",
       "0                                         No Comment  \n",
       "1   Tolles Krankenhaus, trotzdem bin ich lieber g...  "
      ]
     },
     "execution_count": 16,
     "metadata": {},
     "output_type": "execute_result"
    }
   ],
   "source": [
    "google_maps.head(2)"
   ]
  },
  {
   "cell_type": "code",
   "execution_count": null,
   "metadata": {},
   "outputs": [],
   "source": []
  },
  {
   "cell_type": "code",
   "execution_count": null,
   "metadata": {},
   "outputs": [],
   "source": []
  },
  {
   "cell_type": "code",
   "execution_count": null,
   "metadata": {},
   "outputs": [],
   "source": []
  },
  {
   "cell_type": "code",
   "execution_count": null,
   "metadata": {},
   "outputs": [],
   "source": [
    "# yorum aralarındaki /n ve tırnak gibi karakterleri temizle... "
   ]
  },
  {
   "cell_type": "code",
   "execution_count": null,
   "metadata": {},
   "outputs": [],
   "source": [
    "# bewertung ve maps csv den tek tablo oluştur"
   ]
  },
  {
   "cell_type": "code",
   "execution_count": null,
   "metadata": {},
   "outputs": [],
   "source": [
    "# data typeları düzenle"
   ]
  },
  {
   "cell_type": "code",
   "execution_count": null,
   "metadata": {},
   "outputs": [],
   "source": [
    "# comments ayır"
   ]
  },
  {
   "cell_type": "code",
   "execution_count": null,
   "metadata": {},
   "outputs": [],
   "source": [
    "# ML algorithm entscheiden um eine KlinifyScore zu herausfinden."
   ]
  },
  {
   "cell_type": "code",
   "execution_count": null,
   "metadata": {},
   "outputs": [],
   "source": [
    "# bewertung sterne int yap... "
   ]
  },
  {
   "cell_type": "code",
   "execution_count": null,
   "metadata": {},
   "outputs": [],
   "source": []
  },
  {
   "cell_type": "code",
   "execution_count": null,
   "metadata": {},
   "outputs": [],
   "source": []
  }
 ],
 "metadata": {
  "kernelspec": {
   "display_name": "Python 3",
   "language": "python",
   "name": "python3"
  },
  "language_info": {
   "codemirror_mode": {
    "name": "ipython",
    "version": 3
   },
   "file_extension": ".py",
   "mimetype": "text/x-python",
   "name": "python",
   "nbconvert_exporter": "python",
   "pygments_lexer": "ipython3",
   "version": "3.8.3"
  }
 },
 "nbformat": 4,
 "nbformat_minor": 4
}
